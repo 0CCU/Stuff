{
 "cells": [
  {
   "cell_type": "code",
   "execution_count": 1,
   "metadata": {},
   "outputs": [],
   "source": [
    "from __future__ import print_function\n",
    "import os\n",
    "import sys\n",
    "import numpy as np\n",
    "import pandas as pd\n",
    "from tensorflow.keras.models import Sequential\n",
    "from tensorflow.keras.layers import Embedding, Flatten, Dense, SimpleRNN, Activation, GRU, LSTM\n",
    "from tensorflow.keras.models import Sequential\n",
    "from tensorflow.keras import layers\n",
    "from tensorflow.keras.optimizers import RMSprop\n",
    "from tensorflow.keras import preprocessing\n",
    "from tensorflow.keras.preprocessing.text import Tokenizer\n",
    "from tensorflow.keras.utils import to_categorical\n",
    "import matplotlib.pyplot as plt\n",
    "from tensorflow.keras.utils import to_categorical\n",
    "from tensorflow.keras.preprocessing.text import Tokenizer\n",
    "from sklearn.metrics import confusion_matrix, classification_report, cohen_kappa_score\n",
    "\n",
    "from tensorflow.keras.layers import Dense, Input, GlobalMaxPooling1D\n",
    "from tensorflow.keras.layers import Conv1D, MaxPooling1D, Embedding\n",
    "from tensorflow.keras.models import Model\n",
    "from tensorflow.keras.initializers import Constant\n",
    "from tensorflow.keras.metrics import Accuracy\n",
    "from tensorflow.keras.preprocessing.sequence import pad_sequences"
   ]
  },
  {
   "cell_type": "code",
   "execution_count": 2,
   "metadata": {},
   "outputs": [],
   "source": [
    "base_dir = r'C:\\Users\\I\\Desktop\\Neural networks\\Neural network data\\Case3'\n",
    "glove_dir = os.path.join(base_dir, 'glove.6B')\n",
    "dataTrain = pd.read_csv(r'C:/Users/I/Desktop/Neural networks/Neural network data/Case3/drugsComTrain_raw.csv')\n",
    "dataTest = pd.read_csv(r'C:/Users/I/Desktop/Neural networks/Neural network data/Case3/drugsComTest_raw.csv')"
   ]
  },
  {
   "cell_type": "code",
   "execution_count": 3,
   "metadata": {},
   "outputs": [
    {
     "name": "stdout",
     "output_type": "stream",
     "text": [
      "Found 55245 unique tokens in train data.\n"
     ]
    }
   ],
   "source": [
    "# Tokenize the text\n",
    "samples = dataTrain['review']\n",
    "samplesTest = dataTest['review']\n",
    "\n",
    "tokenizer = Tokenizer(num_words = 5000)\n",
    "tokenizer.fit_on_texts(samples)\n",
    "tokenizer.fit_on_texts(samplesTest)\n",
    "# Convert text to sequences\n",
    "sequences = tokenizer.texts_to_sequences(samples)\n",
    "sequencesTest = tokenizer.texts_to_sequences(samplesTest)\n",
    "\n",
    "word_index = tokenizer.word_index\n",
    "\n",
    "print('Found %s unique tokens in train data.' % len(word_index))\n",
    "\n",
    "#pad sequences\n",
    "Data = pad_sequences(sequences, maxlen=200)\n",
    "DataTest = pad_sequences(sequencesTest, maxlen=200)"
   ]
  },
  {
   "cell_type": "code",
   "execution_count": 4,
   "metadata": {},
   "outputs": [],
   "source": [
    "# Create six categories for train and testing \n",
    "# label = 5, when rating == 10\n",
    "# label = 4, when rating = 8-9\n",
    "# label = 3, when rating = 6-7\n",
    "# label = 2, when rating = 4-5\n",
    "# label = 1, when rating = 2-3\n",
    "# label = 0, when rating == 1\n",
    "Labels = dataTrain['rating'].values\n",
    "for i in range(len(Labels)):\n",
    "    x = Labels[i]\n",
    "    if x == 10:\n",
    "        Labels[i] = 5\n",
    "    elif x >= 8:\n",
    "        Labels[i] = 4\n",
    "    elif x >= 6:\n",
    "        Labels[i] = 3\n",
    "    elif x >= 4:\n",
    "        Labels[i] = 2\n",
    "    elif x >= 2:    \n",
    "        Labels[i] = 1\n",
    "    else:\n",
    "        Labels[i] = 0\n",
    "\n",
    "LabelsTest = dataTest['rating'].values\n",
    "for i in range(len(LabelsTest)):\n",
    "    x = LabelsTest[i]\n",
    "    if x == 10:\n",
    "        LabelsTest[i] = 5\n",
    "    elif x >= 8:\n",
    "        LabelsTest[i] = 4\n",
    "    elif x >= 6:\n",
    "        LabelsTest[i] = 3\n",
    "    elif x >= 4:\n",
    "        LabelsTest[i] = 2\n",
    "    elif x >= 2:    \n",
    "        LabelsTest[i] = 1\n",
    "    else:\n",
    "        LabelsTest[i] = 0        "
   ]
  },
  {
   "cell_type": "code",
   "execution_count": 5,
   "metadata": {},
   "outputs": [
    {
     "name": "stdout",
     "output_type": "stream",
     "text": [
      "Shape of train data tensor: (161297, 200)\n",
      "Shape of train label tensor: (161297, 6)\n",
      "Shape of test data tensor: (53766, 200)\n",
      "Shape of test label tensor: (53766, 6)\n"
     ]
    }
   ],
   "source": [
    "Labels = to_categorical(np.asarray(Labels))\n",
    "LabelsTest = to_categorical(np.asarray(LabelsTest))\n",
    "print('Shape of train data tensor:', Data.shape)\n",
    "print('Shape of train label tensor:', Labels.shape)\n",
    "print('Shape of test data tensor:', DataTest.shape)\n",
    "print('Shape of test label tensor:', LabelsTest.shape)"
   ]
  },
  {
   "cell_type": "code",
   "execution_count": 6,
   "metadata": {},
   "outputs": [],
   "source": [
    "validation_split = 0.3\n",
    "\n",
    "# split the data into a training set and a validation set\n",
    "indices = np.arange(Data.shape[0])\n",
    "np.random.shuffle(indices)\n",
    "Data = Data[indices]\n",
    "Labels = Labels[indices]\n",
    "nb_validation_samples = int(validation_split * Data.shape[0])\n",
    "\n",
    "x_train = Data[:-nb_validation_samples]\n",
    "y_train = Labels[:-nb_validation_samples]\n",
    "x_validation = Data[-nb_validation_samples:]\n",
    "y_validation = Labels[-nb_validation_samples:]"
   ]
  },
  {
   "cell_type": "code",
   "execution_count": 7,
   "metadata": {},
   "outputs": [
    {
     "name": "stdout",
     "output_type": "stream",
     "text": [
      "Found 400000 word vectors.\n"
     ]
    }
   ],
   "source": [
    "embeddings_index = {}\n",
    "with open(os.path.join(glove_dir, 'glove.6B.100d.txt'), encoding=\"utf8\") as f:\n",
    "    for line in f:\n",
    "        word, coefs = line.split(maxsplit=1)\n",
    "        coefs = np.fromstring(coefs, 'f', sep=' ')\n",
    "        embeddings_index[word] = coefs\n",
    "print('Found %s word vectors.' % len(embeddings_index))"
   ]
  },
  {
   "cell_type": "code",
   "execution_count": 8,
   "metadata": {},
   "outputs": [],
   "source": [
    "num_words = min(5000, len(word_index) + 1)\n",
    "embedding_matrix = np.zeros((num_words, 100))\n",
    "for word, i in word_index.items():\n",
    "    if i >= 5000:\n",
    "        continue\n",
    "    embedding_vector = embeddings_index.get(word)\n",
    "    if embedding_vector is not None:\n",
    "        # words not found in embedding index will be all-zeros.\n",
    "        embedding_matrix[i] = embedding_vector"
   ]
  },
  {
   "cell_type": "markdown",
   "metadata": {},
   "source": [
    "Since glove.6B.100d is used, output is 100."
   ]
  },
  {
   "cell_type": "code",
   "execution_count": 9,
   "metadata": {},
   "outputs": [],
   "source": [
    "embedding_layer = Embedding(num_words,\n",
    "                            100,\n",
    "                            weights=[embedding_matrix],\n",
    "                            input_length=200,\n",
    "                            trainable=False)"
   ]
  },
  {
   "cell_type": "code",
   "execution_count": 10,
   "metadata": {},
   "outputs": [
    {
     "name": "stdout",
     "output_type": "stream",
     "text": [
      "Model: \"model\"\n",
      "_________________________________________________________________\n",
      "Layer (type)                 Output Shape              Param #   \n",
      "=================================================================\n",
      "input_1 (InputLayer)         [(None, 200)]             0         \n",
      "_________________________________________________________________\n",
      "embedding (Embedding)        (None, 200, 100)          500000    \n",
      "_________________________________________________________________\n",
      "conv1d (Conv1D)              (None, 196, 128)          64128     \n",
      "_________________________________________________________________\n",
      "max_pooling1d (MaxPooling1D) (None, 39, 128)           0         \n",
      "_________________________________________________________________\n",
      "conv1d_1 (Conv1D)            (None, 35, 128)           82048     \n",
      "_________________________________________________________________\n",
      "max_pooling1d_1 (MaxPooling1 (None, 7, 128)            0         \n",
      "_________________________________________________________________\n",
      "conv1d_2 (Conv1D)            (None, 3, 128)            82048     \n",
      "_________________________________________________________________\n",
      "global_max_pooling1d (Global (None, 128)               0         \n",
      "_________________________________________________________________\n",
      "dense (Dense)                (None, 128)               16512     \n",
      "_________________________________________________________________\n",
      "dense_1 (Dense)              (None, 6)                 774       \n",
      "=================================================================\n",
      "Total params: 745,510\n",
      "Trainable params: 245,510\n",
      "Non-trainable params: 500,000\n",
      "_________________________________________________________________\n"
     ]
    }
   ],
   "source": [
    "sequence_input = Input(shape=(200,), dtype='int32')\n",
    "embedded_sequences = embedding_layer(sequence_input)\n",
    "x = Conv1D(128, 5, activation='relu')(embedded_sequences)\n",
    "x = MaxPooling1D(5)(x)\n",
    "x = Conv1D(128, 5, activation='relu')(x)\n",
    "x = MaxPooling1D(5)(x)\n",
    "x = Conv1D(128, 5, activation='relu')(x)\n",
    "x = GlobalMaxPooling1D()(x)\n",
    "x = Dense(128, activation='relu')(x)\n",
    "\n",
    "prediction = Dense(6, activation='softmax')(x)\n",
    "\n",
    "model = Model(sequence_input, prediction)\n",
    "model.compile(loss='categorical_crossentropy',\n",
    "              optimizer='rmsprop',\n",
    "              metrics=['acc'])\n",
    "\n",
    "model.summary()"
   ]
  },
  {
   "cell_type": "code",
   "execution_count": 11,
   "metadata": {},
   "outputs": [
    {
     "name": "stdout",
     "output_type": "stream",
     "text": [
      "Train on 112908 samples, validate on 48389 samples\n",
      "Epoch 1/10\n",
      "112908/112908 [==============================] - 77s 684us/sample - loss: 1.4755 - acc: 0.3936 - val_loss: 1.4467 - val_acc: 0.3847\n",
      "Epoch 2/10\n",
      "112908/112908 [==============================] - 75s 661us/sample - loss: 1.3046 - acc: 0.4624 - val_loss: 1.3915 - val_acc: 0.4341 - loss: 1.3151 - acc:  - ETA: 23s - loss: 1.3149 - acc - ETA: 23s - loss: 1 - ETA: 6s - l - ETA: 0s - loss: 1.3051 - acc:\n",
      "Epoch 3/10\n",
      "112908/112908 [==============================] - 72s 636us/sample - loss: 1.2154 - acc: 0.4963 - val_loss: 1.2738 - val_acc: 0.4784\n",
      "Epoch 4/10\n",
      "112908/112908 [==============================] - 73s 643us/sample - loss: 1.1307 - acc: 0.5298 - val_loss: 1.3174 - val_acc: 0.4542\n",
      "Epoch 5/10\n",
      "112908/112908 [==============================] - 72s 637us/sample - loss: 1.0491 - acc: 0.5674 - val_loss: 1.4662 - val_acc: 0.4479A: 19s - loss: 1.0460  - ETA:\n",
      "Epoch 6/10\n",
      "112908/112908 [==============================] - 73s 649us/sample - loss: 0.9615 - acc: 0.6070 - val_loss: 1.2581 - val_acc: 0.5142\n",
      "Epoch 7/10\n",
      "112908/112908 [==============================] - 73s 646us/sample - loss: 0.8785 - acc: 0.6461 - val_loss: 1.2989 - val_acc: 0.5300 los\n",
      "Epoch 8/10\n",
      "112908/112908 [==============================] - 76s 670us/sample - loss: 0.8011 - acc: 0.6814 - val_loss: 1.6839 - val_acc: 0.4571\n",
      "Epoch 9/10\n",
      "112908/112908 [==============================] - 70s 624us/sample - loss: 0.7332 - acc: 0.7115 - val_loss: 1.3874 - val_acc: 0.5348s - loss: 0.7292 -  - ETA: 5s - loss: 0.7303 - ac - ETA: 4s - loss: 0. - ETA: 2s - loss: 0.7316 - acc - ETA: 2s - loss: 0.7 - ETA: 0s - loss: 0.7330 - acc: 0.\n",
      "Epoch 10/10\n",
      "112908/112908 [==============================] - 71s 632us/sample - loss: 0.6749 - acc: 0.7376 - val_loss: 1.4587 - val_acc: 0.5524\n"
     ]
    }
   ],
   "source": [
    "history = model.fit(x_train, y_train,\n",
    "          batch_size=128,\n",
    "          epochs=10,\n",
    "          validation_data=(x_validation, y_validation))"
   ]
  },
  {
   "cell_type": "code",
   "execution_count": 12,
   "metadata": {},
   "outputs": [
    {
     "data": {
      "image/png": "[encoded data removed]",
      "text/plain": [
       "<Figure size 432x288 with 1 Axes>"
      ]
     },
     "metadata": {
      "needs_background": "light"
     },
     "output_type": "display_data"
    },
    {
     "data": {
      "image/png": "[encoded data removed]",
      "text/plain": [
       "<Figure size 432x288 with 1 Axes>"
      ]
     },
     "metadata": {
      "needs_background": "light"
     },
     "output_type": "display_data"
    },
    {
     "data": {
      "text/plain": [
       "<Figure size 432x288 with 0 Axes>"
      ]
     },
     "metadata": {},
     "output_type": "display_data"
    }
   ],
   "source": [
    "acc = history.history['acc']\n",
    "val_acc = history.history['val_acc']\n",
    "loss = history.history['loss']\n",
    "val_loss = history.history['val_loss']\n",
    "epochs = range(1, len(acc) + 1)\n",
    "plt.plot(epochs, acc, 'bo', label='Training acc')\n",
    "plt.plot(epochs, val_acc, 'b', label='Validation acc')\n",
    "plt.title('Training and validation accuracy')\n",
    "plt.legend()\n",
    "plt.figure()\n",
    "plt.plot(epochs, loss, 'bo', label='Training loss')\n",
    "plt.plot(epochs, val_loss, 'b', label='Validation loss')\n",
    "plt.title('Training and validation loss')\n",
    "plt.legend()\n",
    "plt.figure()\n",
    "plt.show()"
   ]
  },
  {
   "cell_type": "code",
   "execution_count": 13,
   "metadata": {},
   "outputs": [
    {
     "data": {
      "text/plain": [
       "<Figure size 432x288 with 0 Axes>"
      ]
     },
     "execution_count": 13,
     "metadata": {},
     "output_type": "execute_result"
    },
    {
     "data": {
      "image/png": "[encoded data removed]",
      "text/plain": [
       "<Figure size 432x288 with 1 Axes>"
      ]
     },
     "metadata": {
      "needs_background": "light"
     },
     "output_type": "display_data"
    },
    {
     "data": {
      "image/png": "[encoded data removed]",
      "text/plain": [
       "<Figure size 432x288 with 1 Axes>"
      ]
     },
     "metadata": {
      "needs_background": "light"
     },
     "output_type": "display_data"
    },
    {
     "data": {
      "text/plain": [
       "<Figure size 432x288 with 0 Axes>"
      ]
     },
     "metadata": {},
     "output_type": "display_data"
    }
   ],
   "source": [
    "epochs = range(1, len(acc) + 1)\n",
    "def smooth_curve(points, factor=0.8):\n",
    "    smoothed_points = []\n",
    "    for point in points:\n",
    "        if smoothed_points:\n",
    "            previous = smoothed_points[-1]\n",
    "            smoothed_points.append(previous * factor + point * (1 - factor))\n",
    "        else:\n",
    "            smoothed_points.append(point)\n",
    "    return smoothed_points\n",
    "plt.plot(epochs, smooth_curve(acc), 'bo', label='Training acc')\n",
    "plt.plot(epochs, smooth_curve(val_acc), 'b', label='Validation acc')\n",
    "plt.title('Training and validation accuracy')\n",
    "plt.legend()\n",
    "plt.figure()\n",
    "plt.plot(epochs, smooth_curve(loss), 'bo', label='Training loss')\n",
    "plt.plot(epochs, smooth_curve(val_loss), 'b', label='Validation loss')\n",
    "plt.title('Training and validation loss')\n",
    "plt.legend()\n",
    "plt.figure()"
   ]
  },
  {
   "cell_type": "code",
   "execution_count": 14,
   "metadata": {},
   "outputs": [
    {
     "name": "stdout",
     "output_type": "stream",
     "text": [
      "[[ 4234   827   398   229   249   253]\n",
      " [  817  1555   324   205   168   104]\n",
      " [  672   787  1710   541   490   262]\n",
      " [  249   323   532  1437   683   270]\n",
      " [  820   770  1094  2186  9949  5358]\n",
      " [  507   277   311   612  3794 10769]]\n",
      "              precision    recall  f1-score   support\n",
      "\n",
      "           0       0.68      0.58      0.63      7299\n",
      "           1       0.49      0.34      0.40      4539\n",
      "           2       0.38      0.39      0.39      4369\n",
      "           3       0.41      0.28      0.33      5210\n",
      "           4       0.49      0.65      0.56     15333\n",
      "           5       0.66      0.63      0.65     17016\n",
      "\n",
      "    accuracy                           0.55     53766\n",
      "   macro avg       0.52      0.48      0.49     53766\n",
      "weighted avg       0.56      0.55      0.55     53766\n",
      "\n"
     ]
    }
   ],
   "source": [
    "# Find the predicted values for the test set\n",
    "y_pred = np.argmax(model.predict(DataTest), axis = 1)\n",
    "y_true = np.argmax(LabelsTest, axis = 1)\n",
    "\n",
    "# Calculate confusion matrix\n",
    "cm = confusion_matrix(y_true, y_pred).T\n",
    "print(cm)\n",
    "# Calcualte classification report\n",
    "cr = classification_report(y_true, y_pred)\n",
    "print(cr)"
   ]
  },
  {
   "cell_type": "code",
   "execution_count": 15,
   "metadata": {},
   "outputs": [
    {
     "name": "stdout",
     "output_type": "stream",
     "text": [
      "Cohen's kappa (linear)    = 0.413\n",
      "Cohen's kappa (quadratic) = 0.710\n"
     ]
    }
   ],
   "source": [
    "# Calculate the cohen's kappa, both with linear and quadratic weights\n",
    "k = cohen_kappa_score(y_true, y_pred)\n",
    "print(f\"Cohen's kappa (linear)    = {k:.3f}\")\n",
    "k2 = cohen_kappa_score(y_true, y_pred, weights = 'quadratic')\n",
    "print(f\"Cohen's kappa (quadratic) = {k2:.3f}\")"
   ]
  },
  {
   "cell_type": "markdown",
   "metadata": {},
   "source": [
    "As can be seen from the graph, model training should be stopped at 6 epochs to avoid overfitting. The results are fairly good with six classes but they are again worse with a pre-trained network.\n",
    "\n",
    "Lets try training with full training data set to improve results and lessen overfitting."
   ]
  },
  {
   "cell_type": "code",
   "execution_count": 16,
   "metadata": {},
   "outputs": [],
   "source": [
    "sequence_input = Input(shape=(200,), dtype='int32')\n",
    "embedded_sequences = embedding_layer(sequence_input)\n",
    "x = Conv1D(128, 5, activation='relu')(embedded_sequences)\n",
    "x = MaxPooling1D(5)(x)\n",
    "x = Conv1D(128, 5, activation='relu')(x)\n",
    "x = MaxPooling1D(5)(x)\n",
    "x = Conv1D(128, 5, activation='relu')(x)\n",
    "x = GlobalMaxPooling1D()(x)\n",
    "x = Dense(128, activation='relu')(x)\n",
    "\n",
    "prediction = Dense(6, activation='softmax')(x)\n",
    "\n",
    "model = Model(sequence_input, prediction)\n",
    "model.compile(loss='categorical_crossentropy',\n",
    "              optimizer='rmsprop',\n",
    "              metrics=['acc'])"
   ]
  },
  {
   "cell_type": "code",
   "execution_count": 18,
   "metadata": {},
   "outputs": [
    {
     "name": "stdout",
     "output_type": "stream",
     "text": [
      "Train on 161297 samples\n",
      "Epoch 1/6\n",
      "161297/161297 [==============================] - 101s 628us/sample - loss: 1.4353 - acc: 0.4111: 6s -  - ETA: 3s - loss: 1.4394 - acc: 0.409 - ETA: 3s - loss: 1.4393 - acc - ETA: 2s -\n",
      "Epoch 2/6\n",
      "161297/161297 [==============================] - 91s 565us/sample - loss: 1.2666 - acc: 0.4769\n",
      "Epoch 3/6\n",
      "161297/161297 [==============================] - 99s 614us/sample - loss: 1.1743 - acc: 0.5104A: 7s - loss: 1. - ETA: 5s - loss: 1.1735  - - ETA: 0s - loss: 1.1743 - acc: 0.510\n",
      "Epoch 4/6\n",
      "161297/161297 [==============================] - 97s 604us/sample - loss: 1.0921 - acc: 0.5458ETA: 0s - loss: 1.0922 - acc: 0\n",
      "Epoch 5/6\n",
      "161297/161297 [==============================] - 100s 619us/sample - loss: 1.0099 - acc: 0.5831 - loss: 1. - ETA - ETA: 22s - lo - ETA: 21s - loss: 1.0058 - acc:  - E - ETA: 19s - loss:  - ETA: 18s - loss: 1.0064 - ETA: 17s - loss: 1.0066 - acc - - ETA: 11s  - ETA: 10s - loss: 1.0086 - ETA: 5s - loss: 1.0095 - acc - ETA: 4s - lo - ETA: 1s - loss: 1.0094 - acc: 0.5 - ETA: 1s - loss: 1.0\n",
      "Epoch 6/6\n",
      "161297/161297 [==============================] - 101s 628us/sample - loss: 0.9256 - acc: 0.6237:21 - loss: 0.9125 - a - ETA: 1:22 - ETA: 1:21 - loss: 0.9125 - a - ETA: 1:20 - loss: 0.9132  - ETA - ETA: 35s - loss: 0.9178 - acc:  - ETA: 34s  - ETA - ETA: 12s - loss: 0.9235 - ETA: 11s - - ETA: 2s - loss: 0.9257 - acc: 0.6 - ETA: 2s - loss: 0.9257 - a - ETA: 1s - loss: 0.92\n"
     ]
    }
   ],
   "source": [
    "history = model.fit(Data, Labels,\n",
    "          batch_size=128,\n",
    "          epochs=6,\n",
    "          validation_data=None)"
   ]
  },
  {
   "cell_type": "code",
   "execution_count": 19,
   "metadata": {},
   "outputs": [
    {
     "name": "stdout",
     "output_type": "stream",
     "text": [
      "[[ 4483  1232   495   229   250   215]\n",
      " [  334   586   212    78    56    32]\n",
      " [  279   445   442   129    66    41]\n",
      " [  633  1042  1512  1629  1083   372]\n",
      " [  853   866  1304  2464  9427  5183]\n",
      " [  717   368   404   681  4451 11173]]\n",
      "              precision    recall  f1-score   support\n",
      "\n",
      "           0       0.65      0.61      0.63      7299\n",
      "           1       0.45      0.13      0.20      4539\n",
      "           2       0.32      0.10      0.15      4369\n",
      "           3       0.26      0.31      0.28      5210\n",
      "           4       0.47      0.61      0.53     15333\n",
      "           5       0.63      0.66      0.64     17016\n",
      "\n",
      "    accuracy                           0.52     53766\n",
      "   macro avg       0.46      0.40      0.41     53766\n",
      "weighted avg       0.51      0.52      0.50     53766\n",
      "\n"
     ]
    }
   ],
   "source": [
    "# Find the predicted values for the test set\n",
    "y_pred = np.argmax(model.predict(DataTest), axis = 1)\n",
    "y_true = np.argmax(LabelsTest, axis = 1)\n",
    "\n",
    "# Calculate confusion matrix\n",
    "cm = confusion_matrix(y_true, y_pred).T\n",
    "print(cm)\n",
    "# Calcualte classification report\n",
    "cr = classification_report(y_true, y_pred)\n",
    "print(cr)"
   ]
  },
  {
   "cell_type": "code",
   "execution_count": 20,
   "metadata": {},
   "outputs": [
    {
     "name": "stdout",
     "output_type": "stream",
     "text": [
      "Cohen's kappa (linear)    = 0.360\n",
      "Cohen's kappa (quadratic) = 0.678\n"
     ]
    }
   ],
   "source": [
    "# Calculate the cohen's kappa, both with linear and quadratic weights\n",
    "k = cohen_kappa_score(y_true, y_pred)\n",
    "print(f\"Cohen's kappa (linear)    = {k:.3f}\")\n",
    "k2 = cohen_kappa_score(y_true, y_pred, weights = 'quadratic')\n",
    "print(f\"Cohen's kappa (quadratic) = {k2:.3f}\")"
   ]
  },
  {
   "cell_type": "markdown",
   "metadata": {},
   "source": [
    "The result is worse than when training for 10 epochs which is a bit weird considering that the result should be better since, we don't overfit the model but then again it could be that, the training data and test data are similar in nature. Resulting overfitting isn't yet that bad between 6 and 10 epochs but within those 4 epochs the trainable parameters will get better and by that the model fares better after 10 epochs. Lets see Case 3 Three rating categories glove.6B.200d V2"
   ]
  }
 ],
 "metadata": {
  "kernelspec": {
   "display_name": "Python 3",
   "language": "python",
   "name": "python3"
  },
  "language_info": {
   "codemirror_mode": {
    "name": "ipython",
    "version": 3
   },
   "file_extension": ".py",
   "mimetype": "text/x-python",
   "name": "python",
   "nbconvert_exporter": "python",
   "pygments_lexer": "ipython3",
   "version": "3.7.6"
  }
 },
 "nbformat": 4,
 "nbformat_minor": 4
}
