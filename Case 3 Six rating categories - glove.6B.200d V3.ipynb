{
 "cells": [
  {
   "cell_type": "code",
   "execution_count": 1,
   "metadata": {},
   "outputs": [],
   "source": [
    "from __future__ import print_function\n",
    "import os\n",
    "import sys\n",
    "import numpy as np\n",
    "import pandas as pd\n",
    "from tensorflow.keras.models import Sequential\n",
    "from tensorflow.keras.layers import Embedding, Flatten, Dense, SimpleRNN, Activation, GRU, LSTM\n",
    "from tensorflow.keras.models import Sequential\n",
    "from tensorflow.keras import layers\n",
    "from tensorflow.keras.optimizers import RMSprop\n",
    "from tensorflow.keras import preprocessing\n",
    "from tensorflow.keras.preprocessing.text import Tokenizer\n",
    "from tensorflow.keras.utils import to_categorical\n",
    "import matplotlib.pyplot as plt\n",
    "from tensorflow.keras.utils import to_categorical\n",
    "from tensorflow.keras.preprocessing.text import Tokenizer\n",
    "from sklearn.metrics import confusion_matrix, classification_report, cohen_kappa_score\n",
    "\n",
    "from tensorflow.keras.layers import Dense, Input, GlobalMaxPooling1D\n",
    "from tensorflow.keras.layers import Conv1D, MaxPooling1D, Embedding\n",
    "from tensorflow.keras.models import Model\n",
    "from tensorflow.keras.initializers import Constant\n",
    "from tensorflow.keras.metrics import Accuracy\n",
    "from tensorflow.keras.preprocessing.sequence import pad_sequences"
   ]
  },
  {
   "cell_type": "code",
   "execution_count": 2,
   "metadata": {},
   "outputs": [],
   "source": [
    "base_dir = r'C:\\Users\\I\\Desktop\\Neural networks\\Neural network data\\Case3'\n",
    "glove_dir = os.path.join(base_dir, 'glove.6B')\n",
    "dataTrain = pd.read_csv(r'C:/Users/I/Desktop/Neural networks/Neural network data/Case3/drugsComTrain_raw.csv')\n",
    "dataTest = pd.read_csv(r'C:/Users/I/Desktop/Neural networks/Neural network data/Case3/drugsComTest_raw.csv')"
   ]
  },
  {
   "cell_type": "code",
   "execution_count": 3,
   "metadata": {},
   "outputs": [
    {
     "name": "stdout",
     "output_type": "stream",
     "text": [
      "Found 55245 unique tokens in train data.\n"
     ]
    }
   ],
   "source": [
    "# Tokenize the text\n",
    "samples = dataTrain['review']\n",
    "samplesTest = dataTest['review']\n",
    "\n",
    "tokenizer = Tokenizer(num_words = 5000)\n",
    "tokenizer.fit_on_texts(samples)\n",
    "tokenizer.fit_on_texts(samplesTest)\n",
    "# Convert text to sequences\n",
    "sequences = tokenizer.texts_to_sequences(samples)\n",
    "sequencesTest = tokenizer.texts_to_sequences(samplesTest)\n",
    "\n",
    "word_index = tokenizer.word_index\n",
    "\n",
    "print('Found %s unique tokens in train data.' % len(word_index))\n",
    "\n",
    "#pad sequences\n",
    "Data = pad_sequences(sequences, maxlen=200)\n",
    "DataTest = pad_sequences(sequencesTest, maxlen=200)"
   ]
  },
  {
   "cell_type": "code",
   "execution_count": 4,
   "metadata": {},
   "outputs": [],
   "source": [
    "# Create six categories for train and testing \n",
    "# label = 5, when rating == 10\n",
    "# label = 4, when rating = 8-9\n",
    "# label = 3, when rating = 6-7\n",
    "# label = 2, when rating = 4-5\n",
    "# label = 1, when rating = 2-3\n",
    "# label = 0, when rating == 1\n",
    "Labels = dataTrain['rating'].values\n",
    "for i in range(len(Labels)):\n",
    "    x = Labels[i]\n",
    "    if x == 10:\n",
    "        Labels[i] = 5\n",
    "    elif x >= 8:\n",
    "        Labels[i] = 4\n",
    "    elif x >= 6:\n",
    "        Labels[i] = 3\n",
    "    elif x >= 4:\n",
    "        Labels[i] = 2\n",
    "    elif x >= 2:    \n",
    "        Labels[i] = 1\n",
    "    else:\n",
    "        Labels[i] = 0\n",
    "\n",
    "LabelsTest = dataTest['rating'].values\n",
    "for i in range(len(LabelsTest)):\n",
    "    x = LabelsTest[i]\n",
    "    if x == 10:\n",
    "        LabelsTest[i] = 5\n",
    "    elif x >= 8:\n",
    "        LabelsTest[i] = 4\n",
    "    elif x >= 6:\n",
    "        LabelsTest[i] = 3\n",
    "    elif x >= 4:\n",
    "        LabelsTest[i] = 2\n",
    "    elif x >= 2:    \n",
    "        LabelsTest[i] = 1\n",
    "    else:\n",
    "        LabelsTest[i] = 0        "
   ]
  },
  {
   "cell_type": "code",
   "execution_count": 5,
   "metadata": {},
   "outputs": [
    {
     "name": "stdout",
     "output_type": "stream",
     "text": [
      "Shape of train data tensor: (161297, 200)\n",
      "Shape of train label tensor: (161297, 6)\n",
      "Shape of test data tensor: (53766, 200)\n",
      "Shape of test label tensor: (53766, 6)\n"
     ]
    }
   ],
   "source": [
    "Labels = to_categorical(np.asarray(Labels))\n",
    "LabelsTest = to_categorical(np.asarray(LabelsTest))\n",
    "print('Shape of train data tensor:', Data.shape)\n",
    "print('Shape of train label tensor:', Labels.shape)\n",
    "print('Shape of test data tensor:', DataTest.shape)\n",
    "print('Shape of test label tensor:', LabelsTest.shape)"
   ]
  },
  {
   "cell_type": "code",
   "execution_count": 6,
   "metadata": {},
   "outputs": [],
   "source": [
    "validation_split = 0.3\n",
    "\n",
    "# split the data into a training set and a validation set\n",
    "indices = np.arange(Data.shape[0])\n",
    "np.random.shuffle(indices)\n",
    "Data = Data[indices]\n",
    "Labels = Labels[indices]\n",
    "nb_validation_samples = int(validation_split * Data.shape[0])\n",
    "\n",
    "x_train = Data[:-nb_validation_samples]\n",
    "y_train = Labels[:-nb_validation_samples]\n",
    "x_validation = Data[-nb_validation_samples:]\n",
    "y_validation = Labels[-nb_validation_samples:]"
   ]
  },
  {
   "cell_type": "code",
   "execution_count": 7,
   "metadata": {},
   "outputs": [
    {
     "name": "stdout",
     "output_type": "stream",
     "text": [
      "Found 400000 word vectors.\n"
     ]
    }
   ],
   "source": [
    "embeddings_index = {}\n",
    "with open(os.path.join(glove_dir, 'glove.6B.200d.txt'), encoding=\"utf8\") as f:\n",
    "    for line in f:\n",
    "        word, coefs = line.split(maxsplit=1)\n",
    "        coefs = np.fromstring(coefs, 'f', sep=' ')\n",
    "        embeddings_index[word] = coefs\n",
    "        \n",
    "print('Found %s word vectors.' % len(embeddings_index))"
   ]
  },
  {
   "cell_type": "markdown",
   "metadata": {},
   "source": [
    "Since glove.6B.200d embedding_matrix = np.zeros((num_words, 200)) and output in Embedding is also 200."
   ]
  },
  {
   "cell_type": "code",
   "execution_count": 8,
   "metadata": {},
   "outputs": [],
   "source": [
    "num_words = min(5000, len(word_index) + 1)\n",
    "embedding_matrix = np.zeros((num_words, 200))\n",
    "for word, i in word_index.items():\n",
    "    if i >= 5000:\n",
    "        continue\n",
    "    embedding_vector = embeddings_index.get(word)\n",
    "    if embedding_vector is not None:\n",
    "        # words not found in embedding index will be all-zeros.\n",
    "        embedding_matrix[i] = embedding_vector"
   ]
  },
  {
   "cell_type": "code",
   "execution_count": 9,
   "metadata": {},
   "outputs": [],
   "source": [
    "embedding_layer = Embedding(num_words,\n",
    "                            200,\n",
    "                            weights=[embedding_matrix],\n",
    "                            input_length=200,\n",
    "                            trainable=False)"
   ]
  },
  {
   "cell_type": "code",
   "execution_count": 10,
   "metadata": {},
   "outputs": [],
   "source": [
    "sequence_input = Input(shape=(200,), dtype='int32')\n",
    "embedded_sequences = embedding_layer(sequence_input)\n",
    "x = Conv1D(128, 5, activation='relu')(embedded_sequences)\n",
    "x = MaxPooling1D(5)(x)\n",
    "x = Conv1D(128, 5, activation='relu')(x)\n",
    "x = MaxPooling1D(5)(x)\n",
    "x = Conv1D(128, 5, activation='relu')(x)\n",
    "x = GlobalMaxPooling1D()(x)\n",
    "x = Dense(128, activation='relu')(x)\n",
    "\n",
    "prediction = Dense(6, activation='softmax')(x)\n",
    "\n",
    "model = Model(sequence_input, prediction)\n",
    "model.compile(loss='categorical_crossentropy',\n",
    "              optimizer='rmsprop',\n",
    "              metrics=['acc'])"
   ]
  },
  {
   "cell_type": "code",
   "execution_count": 11,
   "metadata": {},
   "outputs": [
    {
     "name": "stdout",
     "output_type": "stream",
     "text": [
      "Train on 112908 samples, validate on 48389 samples\n",
      "Epoch 1/10\n",
      "112908/112908 [==============================] - 84s 742us/sample - loss: 1.4401 - acc: 0.4071 - val_loss: 1.4342 - val_acc: 0.4215\n",
      "Epoch 2/10\n",
      "112908/112908 [==============================] - 79s 698us/sample - loss: 1.2588 - acc: 0.4782 - val_loss: 1.2404 - val_acc: 0.4850\n",
      "Epoch 3/10\n",
      "112908/112908 [==============================] - 71s 631us/sample - loss: 1.1618 - acc: 0.5160 - val_loss: 1.2033 - val_acc: 0.4986\n",
      "Epoch 4/10\n",
      "112908/112908 [==============================] - 77s 680us/sample - loss: 1.0762 - acc: 0.5512 - val_loss: 1.6414 - val_acc: 0.4624\n",
      "Epoch 5/10\n",
      "112908/112908 [==============================] - 82s 728us/sample - loss: 0.9850 - acc: 0.5919 - val_loss: 1.2837 - val_acc: 0.4913\n",
      "Epoch 6/10\n",
      "112908/112908 [==============================] - 81s 720us/sample - loss: 0.8919 - acc: 0.6357 - val_loss: 1.3035 - val_acc: 0.5251\n",
      "Epoch 7/10\n",
      "112908/112908 [==============================] - 80s 713us/sample - loss: 0.8034 - acc: 0.6787 - val_loss: 1.3074 - val_acc: 0.5422\n",
      "Epoch 8/10\n",
      "112908/112908 [==============================] - 80s 707us/sample - loss: 0.7235 - acc: 0.7141 - val_loss: 1.4838 - val_acc: 0.5199\n",
      "Epoch 9/10\n",
      "112908/112908 [==============================] - 82s 726us/sample - loss: 0.6535 - acc: 0.7460 - val_loss: 1.4241 - val_acc: 0.5610\n",
      "Epoch 10/10\n",
      "112908/112908 [==============================] - 78s 692us/sample - loss: 0.5921 - acc: 0.7724 - val_loss: 1.7147 - val_acc: 0.5293\n"
     ]
    }
   ],
   "source": [
    "history = model.fit(x_train, y_train,\n",
    "          batch_size=128,\n",
    "          epochs=10,\n",
    "          validation_data=(x_validation, y_validation))"
   ]
  },
  {
   "cell_type": "code",
   "execution_count": 16,
   "metadata": {},
   "outputs": [
    {
     "data": {
      "image/png": "[encoded data removed]",
      "text/plain": [
       "<Figure size 432x288 with 1 Axes>"
      ]
     },
     "metadata": {
      "needs_background": "light"
     },
     "output_type": "display_data"
    },
    {
     "data": {
      "image/png": "[encoded data removed]",
      "text/plain": [
       "<Figure size 432x288 with 1 Axes>"
      ]
     },
     "metadata": {
      "needs_background": "light"
     },
     "output_type": "display_data"
    },
    {
     "data": {
      "text/plain": [
       "<Figure size 432x288 with 0 Axes>"
      ]
     },
     "metadata": {},
     "output_type": "display_data"
    }
   ],
   "source": [
    "acc = history.history['acc']\n",
    "val_acc = history.history['val_acc']\n",
    "loss = history.history['loss']\n",
    "val_loss = history.history['val_loss']\n",
    "epochs = range(1, len(acc) + 1)\n",
    "plt.plot(epochs, acc, 'bo', label='Training acc')\n",
    "plt.plot(epochs, val_acc, 'b', label='Validation acc')\n",
    "plt.title('Training and validation accuracy')\n",
    "plt.legend()\n",
    "plt.figure()\n",
    "plt.plot(epochs, loss, 'bo', label='Training loss')\n",
    "plt.plot(epochs, val_loss, 'b', label='Validation loss')\n",
    "plt.title('Training and validation loss')\n",
    "plt.legend()\n",
    "plt.figure()\n",
    "plt.show()"
   ]
  },
  {
   "cell_type": "code",
   "execution_count": 17,
   "metadata": {},
   "outputs": [
    {
     "data": {
      "text/plain": [
       "<Figure size 432x288 with 0 Axes>"
      ]
     },
     "execution_count": 17,
     "metadata": {},
     "output_type": "execute_result"
    },
    {
     "data": {
      "image/png": "[encoded data removed]",
      "text/plain": [
       "<Figure size 432x288 with 1 Axes>"
      ]
     },
     "metadata": {
      "needs_background": "light"
     },
     "output_type": "display_data"
    },
    {
     "data": {
      "image/png": "[encoded data removed]",
      "text/plain": [
       "<Figure size 432x288 with 1 Axes>"
      ]
     },
     "metadata": {
      "needs_background": "light"
     },
     "output_type": "display_data"
    },
    {
     "data": {
      "text/plain": [
       "<Figure size 432x288 with 0 Axes>"
      ]
     },
     "metadata": {},
     "output_type": "display_data"
    }
   ],
   "source": [
    "epochs = range(1, len(acc) + 1)\n",
    "def smooth_curve(points, factor=0.8):\n",
    "    smoothed_points = []\n",
    "    for point in points:\n",
    "        if smoothed_points:\n",
    "            previous = smoothed_points[-1]\n",
    "            smoothed_points.append(previous * factor + point * (1 - factor))\n",
    "        else:\n",
    "            smoothed_points.append(point)\n",
    "    return smoothed_points\n",
    "plt.plot(epochs, smooth_curve(acc), 'bo', label='Training acc')\n",
    "plt.plot(epochs, smooth_curve(val_acc), 'b', label='Validation acc')\n",
    "plt.title('Training and validation accuracy')\n",
    "plt.legend()\n",
    "plt.figure()\n",
    "plt.plot(epochs, smooth_curve(loss), 'bo', label='Training loss')\n",
    "plt.plot(epochs, smooth_curve(val_loss), 'b', label='Validation loss')\n",
    "plt.title('Training and validation loss')\n",
    "plt.legend()\n",
    "plt.figure()"
   ]
  },
  {
   "cell_type": "code",
   "execution_count": 18,
   "metadata": {},
   "outputs": [
    {
     "name": "stdout",
     "output_type": "stream",
     "text": [
      "[[ 3908   746   265   159   160   160]\n",
      " [ 1017  1711   459   211   186   102]\n",
      " [  577   692  1610   526   358   164]\n",
      " [  218   282   463  1251   464   166]\n",
      " [  367   408   669  1309  4680  1352]\n",
      " [ 1212   700   903  1754  9485 15072]]\n",
      "              precision    recall  f1-score   support\n",
      "\n",
      "           0       0.72      0.54      0.62      7299\n",
      "           1       0.46      0.38      0.42      4539\n",
      "           2       0.41      0.37      0.39      4369\n",
      "           3       0.44      0.24      0.31      5210\n",
      "           4       0.53      0.31      0.39     15333\n",
      "           5       0.52      0.89      0.65     17016\n",
      "\n",
      "    accuracy                           0.53     53766\n",
      "   macro avg       0.51      0.45      0.46     53766\n",
      "weighted avg       0.53      0.53      0.50     53766\n",
      "\n"
     ]
    }
   ],
   "source": [
    "# Find the predicted values for the validation set\n",
    "y_pred = np.argmax(model.predict(DataTest), axis = 1)\n",
    "y_true = np.argmax(LabelsTest, axis = 1)\n",
    "\n",
    "# Calculate confusion matrix\n",
    "cm = confusion_matrix(y_true, y_pred).T\n",
    "print(cm)\n",
    "# Calcualte classification report\n",
    "cr = classification_report(y_true, y_pred)\n",
    "print(cr)"
   ]
  },
  {
   "cell_type": "code",
   "execution_count": 19,
   "metadata": {},
   "outputs": [
    {
     "name": "stdout",
     "output_type": "stream",
     "text": [
      "Cohen's kappa (linear)    = 0.368\n",
      "Cohen's kappa (quadratic) = 0.687\n"
     ]
    }
   ],
   "source": [
    "# Calculate the cohen's kappa, both with linear and quadratic weights\n",
    "k = cohen_kappa_score(y_true, y_pred)\n",
    "print(f\"Cohen's kappa (linear)    = {k:.3f}\")\n",
    "k2 = cohen_kappa_score(y_true, y_pred, weights = 'quadratic')\n",
    "print(f\"Cohen's kappa (quadratic) = {k2:.3f}\")"
   ]
  },
  {
   "cell_type": "markdown",
   "metadata": {},
   "source": [
    "As can be seen from the graphs above the models preformance isn't going up at all with pre-trained word embedding globe.6B. Its waste of time to computed model with 3 epochs and train with all training data.\n",
    "\n",
    "Trainable word embedding in case 3, seems to be the best option."
   ]
  },
  {
   "cell_type": "code",
   "execution_count": null,
   "metadata": {},
   "outputs": [],
   "source": []
  }
 ],
 "metadata": {
  "kernelspec": {
   "display_name": "Python 3",
   "language": "python",
   "name": "python3"
  },
  "language_info": {
   "codemirror_mode": {
    "name": "ipython",
    "version": 3
   },
   "file_extension": ".py",
   "mimetype": "text/x-python",
   "name": "python",
   "nbconvert_exporter": "python",
   "pygments_lexer": "ipython3",
   "version": "3.7.6"
  }
 },
 "nbformat": 4,
 "nbformat_minor": 4
}
