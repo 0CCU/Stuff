{
 "cells": [
  {
   "cell_type": "code",
   "execution_count": 1,
   "metadata": {},
   "outputs": [],
   "source": [
    "import pandas as pd\n",
    "import numpy as np\n",
    "from tensorflow.keras.models import Sequential\n",
    "from tensorflow.keras.layers import Embedding, Flatten, Dense, SimpleRNN, Activation, GRU, LSTM\n",
    "from tensorflow.keras.models import Sequential\n",
    "from tensorflow.keras import layers\n",
    "from tensorflow.keras.optimizers import RMSprop\n",
    "from tensorflow.keras import preprocessing\n",
    "from tensorflow.keras.preprocessing.text import Tokenizer\n",
    "from tensorflow.keras.utils import to_categorical\n",
    "import matplotlib.pyplot as plt\n",
    "import tensorflow_addons as tfa\n",
    "from tensorflow.keras.utils import to_categorical\n",
    "from tensorflow.keras.preprocessing.text import Tokenizer\n",
    "from sklearn.metrics import confusion_matrix, classification_report, cohen_kappa_score\n",
    "\n",
    "from tensorflow.keras.layers import Dense, Input, GlobalMaxPooling1D\n",
    "from tensorflow.keras.layers import Conv1D, MaxPooling1D, Embedding\n",
    "from tensorflow.keras.models import Model\n",
    "from tensorflow.keras.initializers import Constant\n",
    "from tensorflow.keras.metrics import Accuracy,FalseNegatives, FalsePositives\n",
    "from sklearn.model_selection import train_test_split\n",
    "from tensorflow.keras.preprocessing.sequence import pad_sequences"
   ]
  },
  {
   "cell_type": "code",
   "execution_count": 2,
   "metadata": {},
   "outputs": [],
   "source": [
    "dataTrain = pd.read_csv(r'C:/Users/I/Desktop/Neural networks/Neural network data/Case3/drugsComTrain_raw.csv')\n",
    "dataTest = pd.read_csv(r'C:/Users/I/Desktop/Neural networks/Neural network data/Case3/drugsComTest_raw.csv')"
   ]
  },
  {
   "cell_type": "code",
   "execution_count": 3,
   "metadata": {},
   "outputs": [
    {
     "data": {
      "text/html": [
       "<div>\n",
       "<style scoped>\n",
       "    .dataframe tbody tr th:only-of-type {\n",
       "        vertical-align: middle;\n",
       "    }\n",
       "\n",
       "    .dataframe tbody tr th {\n",
       "        vertical-align: top;\n",
       "    }\n",
       "\n",
       "    .dataframe thead th {\n",
       "        text-align: right;\n",
       "    }\n",
       "</style>\n",
       "<table border=\"1\" class=\"dataframe\">\n",
       "  <thead>\n",
       "    <tr style=\"text-align: right;\">\n",
       "      <th></th>\n",
       "      <th>uniqueID</th>\n",
       "      <th>drugName</th>\n",
       "      <th>condition</th>\n",
       "      <th>review</th>\n",
       "      <th>rating</th>\n",
       "      <th>date</th>\n",
       "      <th>usefulCount</th>\n",
       "    </tr>\n",
       "  </thead>\n",
       "  <tbody>\n",
       "    <tr>\n",
       "      <th>0</th>\n",
       "      <td>206461</td>\n",
       "      <td>Valsartan</td>\n",
       "      <td>Left Ventricular Dysfunction</td>\n",
       "      <td>\"It has no side effect, I take it in combinati...</td>\n",
       "      <td>9</td>\n",
       "      <td>20-May-12</td>\n",
       "      <td>27</td>\n",
       "    </tr>\n",
       "    <tr>\n",
       "      <th>1</th>\n",
       "      <td>95260</td>\n",
       "      <td>Guanfacine</td>\n",
       "      <td>ADHD</td>\n",
       "      <td>\"My son is halfway through his fourth week of ...</td>\n",
       "      <td>8</td>\n",
       "      <td>27-Apr-10</td>\n",
       "      <td>192</td>\n",
       "    </tr>\n",
       "    <tr>\n",
       "      <th>2</th>\n",
       "      <td>92703</td>\n",
       "      <td>Lybrel</td>\n",
       "      <td>Birth Control</td>\n",
       "      <td>\"I used to take another oral contraceptive, wh...</td>\n",
       "      <td>5</td>\n",
       "      <td>14-Dec-09</td>\n",
       "      <td>17</td>\n",
       "    </tr>\n",
       "    <tr>\n",
       "      <th>3</th>\n",
       "      <td>138000</td>\n",
       "      <td>Ortho Evra</td>\n",
       "      <td>Birth Control</td>\n",
       "      <td>\"This is my first time using any form of birth...</td>\n",
       "      <td>8</td>\n",
       "      <td>3-Nov-15</td>\n",
       "      <td>10</td>\n",
       "    </tr>\n",
       "    <tr>\n",
       "      <th>4</th>\n",
       "      <td>35696</td>\n",
       "      <td>Buprenorphine / naloxone</td>\n",
       "      <td>Opiate Dependence</td>\n",
       "      <td>\"Suboxone has completely turned my life around...</td>\n",
       "      <td>9</td>\n",
       "      <td>27-Nov-16</td>\n",
       "      <td>37</td>\n",
       "    </tr>\n",
       "  </tbody>\n",
       "</table>\n",
       "</div>"
      ],
      "text/plain": [
       "   uniqueID                  drugName                     condition  \\\n",
       "0    206461                 Valsartan  Left Ventricular Dysfunction   \n",
       "1     95260                Guanfacine                          ADHD   \n",
       "2     92703                    Lybrel                 Birth Control   \n",
       "3    138000                Ortho Evra                 Birth Control   \n",
       "4     35696  Buprenorphine / naloxone             Opiate Dependence   \n",
       "\n",
       "                                              review  rating       date  \\\n",
       "0  \"It has no side effect, I take it in combinati...       9  20-May-12   \n",
       "1  \"My son is halfway through his fourth week of ...       8  27-Apr-10   \n",
       "2  \"I used to take another oral contraceptive, wh...       5  14-Dec-09   \n",
       "3  \"This is my first time using any form of birth...       8   3-Nov-15   \n",
       "4  \"Suboxone has completely turned my life around...       9  27-Nov-16   \n",
       "\n",
       "   usefulCount  \n",
       "0           27  \n",
       "1          192  \n",
       "2           17  \n",
       "3           10  \n",
       "4           37  "
      ]
     },
     "execution_count": 3,
     "metadata": {},
     "output_type": "execute_result"
    }
   ],
   "source": [
    "#Look at data\n",
    "dataTrain.head()"
   ]
  },
  {
   "cell_type": "code",
   "execution_count": 4,
   "metadata": {},
   "outputs": [
    {
     "name": "stdout",
     "output_type": "stream",
     "text": [
      "Found 55245 unique tokens in train data.\n"
     ]
    }
   ],
   "source": [
    "# Tokenize the text\n",
    "samples = dataTrain['review']\n",
    "samplesTest = dataTest['review']\n",
    "\n",
    "tokenizer = Tokenizer(num_words = 5000)\n",
    "tokenizer.fit_on_texts(samples)\n",
    "tokenizer.fit_on_texts(samplesTest)\n",
    "# Convert text to sequences\n",
    "sequences = tokenizer.texts_to_sequences(samples)\n",
    "sequencesTest = tokenizer.texts_to_sequences(samplesTest)\n",
    "\n",
    "word_index = tokenizer.word_index\n",
    "\n",
    "print('Found %s unique tokens in train data.' % len(word_index))\n",
    "\n",
    "#pad sequences\n",
    "Data = pad_sequences(sequences, maxlen=200)\n",
    "DataTest = pad_sequences(sequencesTest, maxlen=200)"
   ]
  },
  {
   "cell_type": "markdown",
   "metadata": {},
   "source": [
    "I though that since before, there was only 3 categories now there would be instead 6: 10 = most positive, 8-9 positive, 6-7 upper moderate, 4-5 lower moderate, 2-3 negative and 1 most negative.<br><br>I thought that splitting good and bad ratings to most positive/negative and positive/negative would be better indicator also I thought that splitting moderate rating to upper/lower moderate rating would be a good idea since now you could see difference in moderate reviews too."
   ]
  },
  {
   "cell_type": "code",
   "execution_count": 5,
   "metadata": {},
   "outputs": [],
   "source": [
    "# Create six categories for train and testing \n",
    "# label = 5, when rating == 10 most positive\n",
    "# label = 4, when rating = 8-9 positive\n",
    "# label = 3, when rating = 6-7 upper moderate\n",
    "# label = 2, when rating = 4-5 lower moderate\n",
    "# label = 1, when rating = 2-3 negative\n",
    "# label = 0, when rating == 1 most negative\n",
    "Labels = dataTrain['rating'].values\n",
    "for i in range(len(Labels)):\n",
    "    x = Labels[i]\n",
    "    if x == 10:\n",
    "        Labels[i] = 5\n",
    "    elif x >= 8:\n",
    "        Labels[i] = 4\n",
    "    elif x >= 6:\n",
    "        Labels[i] = 3\n",
    "    elif x >= 4:\n",
    "        Labels[i] = 2\n",
    "    elif x >= 2:    \n",
    "        Labels[i] = 1\n",
    "    else:\n",
    "        Labels[i] = 0\n",
    "\n",
    "LabelsTest = dataTest['rating'].values\n",
    "for i in range(len(LabelsTest)):\n",
    "    x = LabelsTest[i]\n",
    "    if x == 10:\n",
    "        LabelsTest[i] = 5\n",
    "    elif x >= 8:\n",
    "        LabelsTest[i] = 4\n",
    "    elif x >= 6:\n",
    "        LabelsTest[i] = 3\n",
    "    elif x >= 4:\n",
    "        LabelsTest[i] = 2\n",
    "    elif x >= 2:    \n",
    "        LabelsTest[i] = 1\n",
    "    else:\n",
    "        LabelsTest[i] = 0        "
   ]
  },
  {
   "cell_type": "code",
   "execution_count": 6,
   "metadata": {},
   "outputs": [
    {
     "name": "stdout",
     "output_type": "stream",
     "text": [
      "Shape of train data tensor: (161297, 200)\n",
      "Shape of train label tensor: (161297, 6)\n",
      "Shape of test data tensor: (53766, 200)\n",
      "Shape of test label tensor: (53766, 6)\n"
     ]
    }
   ],
   "source": [
    "Labels = to_categorical(np.asarray(Labels))\n",
    "LabelsTest = to_categorical(np.asarray(LabelsTest))\n",
    "print('Shape of train data tensor:', Data.shape)\n",
    "print('Shape of train label tensor:', Labels.shape)\n",
    "print('Shape of test data tensor:', DataTest.shape)\n",
    "print('Shape of test label tensor:', LabelsTest.shape)"
   ]
  },
  {
   "cell_type": "code",
   "execution_count": 7,
   "metadata": {},
   "outputs": [],
   "source": [
    "validation_split = 0.3\n",
    "\n",
    "# split the data into a training set and a validation set\n",
    "indices = np.arange(Data.shape[0])\n",
    "np.random.shuffle(indices)\n",
    "Data = Data[indices]\n",
    "Labels = Labels[indices]\n",
    "nb_validation_samples = int(validation_split * Data.shape[0])\n",
    "\n",
    "x_train = Data[:-nb_validation_samples]\n",
    "y_train = Labels[:-nb_validation_samples]\n",
    "x_validation = Data[-nb_validation_samples:]\n",
    "y_validation = Labels[-nb_validation_samples:]"
   ]
  },
  {
   "cell_type": "markdown",
   "metadata": {},
   "source": [
    "Since we have 6 classes to classify final layers needs to be 6 instead of 3."
   ]
  },
  {
   "cell_type": "code",
   "execution_count": 8,
   "metadata": {},
   "outputs": [
    {
     "name": "stdout",
     "output_type": "stream",
     "text": [
      "Model: \"model\"\n",
      "_________________________________________________________________\n",
      "Layer (type)                 Output Shape              Param #   \n",
      "=================================================================\n",
      "input_1 (InputLayer)         [(None, 200)]             0         \n",
      "_________________________________________________________________\n",
      "embedding (Embedding)        (None, 200, 100)          500000    \n",
      "_________________________________________________________________\n",
      "conv1d (Conv1D)              (None, 196, 128)          64128     \n",
      "_________________________________________________________________\n",
      "max_pooling1d (MaxPooling1D) (None, 39, 128)           0         \n",
      "_________________________________________________________________\n",
      "conv1d_1 (Conv1D)            (None, 35, 128)           82048     \n",
      "_________________________________________________________________\n",
      "max_pooling1d_1 (MaxPooling1 (None, 7, 128)            0         \n",
      "_________________________________________________________________\n",
      "conv1d_2 (Conv1D)            (None, 3, 128)            82048     \n",
      "_________________________________________________________________\n",
      "global_max_pooling1d (Global (None, 128)               0         \n",
      "_________________________________________________________________\n",
      "dense (Dense)                (None, 128)               16512     \n",
      "_________________________________________________________________\n",
      "dense_1 (Dense)              (None, 6)                 774       \n",
      "=================================================================\n",
      "Total params: 745,510\n",
      "Trainable params: 745,510\n",
      "Non-trainable params: 0\n",
      "_________________________________________________________________\n"
     ]
    }
   ],
   "source": [
    "embedding_layer = Embedding(5000,\n",
    "                            100,\n",
    "                            input_length=200,\n",
    "                            trainable=True)\n",
    "\n",
    "sequence_input = Input(shape=(200,), dtype='int32')\n",
    "\n",
    "embedded_sequences = embedding_layer(sequence_input)\n",
    "\n",
    "x = Conv1D(128, 5, activation='relu')(embedded_sequences)\n",
    "x = MaxPooling1D(5)(x)\n",
    "x = Conv1D(128, 5, activation='relu')(x)\n",
    "x = MaxPooling1D(5)(x)\n",
    "x = Conv1D(128, 5, activation='relu')(x)\n",
    "x = GlobalMaxPooling1D()(x)\n",
    "x = Dense(128, activation='relu')(x)\n",
    "\n",
    "prediction = Dense(6, activation='softmax')(x)\n",
    "\n",
    "model = Model(sequence_input, prediction)\n",
    "model.compile(loss='categorical_crossentropy',\n",
    "              optimizer='rmsprop',\n",
    "              metrics=['acc'])\n",
    "\n",
    "model.summary()"
   ]
  },
  {
   "cell_type": "code",
   "execution_count": 9,
   "metadata": {},
   "outputs": [
    {
     "name": "stdout",
     "output_type": "stream",
     "text": [
      "Train on 112908 samples, validate on 48389 samples\n",
      "Epoch 1/10\n",
      "112908/112908 [==============================] - 76s 672us/sample - loss: 1.3546 - acc: 0.4296 - val_loss: 1.2936 - val_acc: 0.4515\n",
      "Epoch 2/10\n",
      "112908/112908 [==============================] - 71s 633us/sample - loss: 1.1675 - acc: 0.5141 - val_loss: 1.1544 - val_acc: 0.5227\n",
      "Epoch 3/10\n",
      "112908/112908 [==============================] - 73s 647us/sample - loss: 1.0653 - acc: 0.5574 - val_loss: 1.2947 - val_acc: 0.4495\n",
      "Epoch 4/10\n",
      "112908/112908 [==============================] - 70s 617us/sample - loss: 0.9551 - acc: 0.6052 - val_loss: 1.2006 - val_acc: 0.5129\n",
      "Epoch 5/10\n",
      "112908/112908 [==============================] - 72s 638us/sample - loss: 0.8308 - acc: 0.6624 - val_loss: 1.4782 - val_acc: 0.4760\n",
      "Epoch 6/10\n",
      "112908/112908 [==============================] - 69s 613us/sample - loss: 0.7108 - acc: 0.7174 - val_loss: 1.1973 - val_acc: 0.5704\n",
      "Epoch 7/10\n",
      "112908/112908 [==============================] - 73s 645us/sample - loss: 0.6082 - acc: 0.7627 - val_loss: 1.3407 - val_acc: 0.5723\n",
      "Epoch 8/10\n",
      "112908/112908 [==============================] - 73s 649us/sample - loss: 0.5140 - acc: 0.8009 - val_loss: 1.7807 - val_acc: 0.5364\n",
      "Epoch 9/10\n",
      "112908/112908 [==============================] - 71s 632us/sample - loss: 0.4408 - acc: 0.8321 - val_loss: 1.5513 - val_acc: 0.5919\n",
      "Epoch 10/10\n",
      "112908/112908 [==============================] - 74s 656us/sample - loss: 0.3797 - acc: 0.8574 - val_loss: 1.6167 - val_acc: 0.6099\n"
     ]
    }
   ],
   "source": [
    "history = model.fit(x_train, y_train,\n",
    "          batch_size=128,\n",
    "          epochs=10,\n",
    "          validation_data=(x_validation, y_validation))"
   ]
  },
  {
   "cell_type": "code",
   "execution_count": 11,
   "metadata": {},
   "outputs": [
    {
     "data": {
      "image/png": "[encoded data removed]",
      "text/plain": [
       "<Figure size 432x288 with 1 Axes>"
      ]
     },
     "metadata": {
      "needs_background": "light"
     },
     "output_type": "display_data"
    },
    {
     "data": {
      "image/png": "[encoded data removed]",
      "text/plain": [
       "<Figure size 432x288 with 1 Axes>"
      ]
     },
     "metadata": {
      "needs_background": "light"
     },
     "output_type": "display_data"
    },
    {
     "data": {
      "text/plain": [
       "<Figure size 432x288 with 0 Axes>"
      ]
     },
     "metadata": {},
     "output_type": "display_data"
    }
   ],
   "source": [
    "acc = history.history['acc']\n",
    "val_acc = history.history['val_acc']\n",
    "loss = history.history['loss']\n",
    "val_loss = history.history['val_loss']\n",
    "epochs = range(1, len(acc) + 1)\n",
    "plt.plot(epochs, acc, 'bo', label='Training acc')\n",
    "plt.plot(epochs, val_acc, 'b', label='Validation acc')\n",
    "plt.title('Training and validation accuracy')\n",
    "plt.legend()\n",
    "plt.figure()\n",
    "plt.plot(epochs, loss, 'bo', label='Training loss')\n",
    "plt.plot(epochs, val_loss, 'b', label='Validation loss')\n",
    "plt.title('Training and validation loss')\n",
    "plt.legend()\n",
    "plt.figure()\n",
    "plt.show()"
   ]
  },
  {
   "cell_type": "code",
   "execution_count": 12,
   "metadata": {},
   "outputs": [
    {
     "data": {
      "text/plain": [
       "<Figure size 432x288 with 0 Axes>"
      ]
     },
     "execution_count": 12,
     "metadata": {},
     "output_type": "execute_result"
    },
    {
     "data": {
      "image/png": "[encoded data removed]",
      "text/plain": [
       "<Figure size 432x288 with 1 Axes>"
      ]
     },
     "metadata": {
      "needs_background": "light"
     },
     "output_type": "display_data"
    },
    {
     "data": {
      "image/png": "[encoded data removed]",
      "text/plain": [
       "<Figure size 432x288 with 1 Axes>"
      ]
     },
     "metadata": {
      "needs_background": "light"
     },
     "output_type": "display_data"
    },
    {
     "data": {
      "text/plain": [
       "<Figure size 432x288 with 0 Axes>"
      ]
     },
     "metadata": {},
     "output_type": "display_data"
    }
   ],
   "source": [
    "epochs = range(1, len(acc) + 1)\n",
    "def smooth_curve(points, factor=0.8):\n",
    "    smoothed_points = []\n",
    "    for point in points:\n",
    "        if smoothed_points:\n",
    "            previous = smoothed_points[-1]\n",
    "            smoothed_points.append(previous * factor + point * (1 - factor))\n",
    "        else:\n",
    "            smoothed_points.append(point)\n",
    "    return smoothed_points\n",
    "plt.plot(epochs, smooth_curve(acc), 'bo', label='Training acc')\n",
    "plt.plot(epochs, smooth_curve(val_acc), 'b', label='Validation acc')\n",
    "plt.title('Training and validation accuracy')\n",
    "plt.legend()\n",
    "plt.figure()\n",
    "plt.plot(epochs, smooth_curve(loss), 'bo', label='Training loss')\n",
    "plt.plot(epochs, smooth_curve(val_loss), 'b', label='Validation loss')\n",
    "plt.title('Training and validation loss')\n",
    "plt.legend()\n",
    "plt.figure()"
   ]
  },
  {
   "cell_type": "markdown",
   "metadata": {},
   "source": [
    "The graphs above show that the model starts overfitting already after 2 epochs. That's fast."
   ]
  },
  {
   "cell_type": "code",
   "execution_count": 13,
   "metadata": {},
   "outputs": [],
   "source": [
    "# Find the predicted values for the validation set\n",
    "y_pred = np.argmax(model.predict(DataTest), axis = 1)\n",
    "y_true = np.argmax(LabelsTest, axis = 1)"
   ]
  },
  {
   "cell_type": "code",
   "execution_count": 14,
   "metadata": {},
   "outputs": [
    {
     "name": "stdout",
     "output_type": "stream",
     "text": [
      "[[ 4712   678   264   157   216   311]\n",
      " [ 1277  2290   557   246   205   151]\n",
      " [  512   823  2055   686   426   205]\n",
      " [  256   338   845  2513  1448   552]\n",
      " [  371   328   545  1355 11083  5655]\n",
      " [  171    82   103   253  1955 10142]]\n",
      "              precision    recall  f1-score   support\n",
      "\n",
      "           0       0.74      0.65      0.69      7299\n",
      "           1       0.48      0.50      0.49      4539\n",
      "           2       0.44      0.47      0.45      4369\n",
      "           3       0.42      0.48      0.45      5210\n",
      "           4       0.57      0.72      0.64     15333\n",
      "           5       0.80      0.60      0.68     17016\n",
      "\n",
      "    accuracy                           0.61     53766\n",
      "   macro avg       0.58      0.57      0.57     53766\n",
      "weighted avg       0.63      0.61      0.61     53766\n",
      "\n"
     ]
    }
   ],
   "source": [
    "# Calculate confusion matrix\n",
    "cm = confusion_matrix(y_true, y_pred).T\n",
    "print(cm)\n",
    "# Calcualte classification report\n",
    "cr = classification_report(y_true, y_pred)\n",
    "print(cr)"
   ]
  },
  {
   "cell_type": "code",
   "execution_count": 15,
   "metadata": {},
   "outputs": [
    {
     "name": "stdout",
     "output_type": "stream",
     "text": [
      "Cohen's kappa (linear)    = 0.501\n",
      "Cohen's kappa (quadratic) = 0.797\n"
     ]
    }
   ],
   "source": [
    "# Calculate the cohen's kappa, both with linear and quadratic weights\n",
    "k = cohen_kappa_score(y_true, y_pred)\n",
    "print(f\"Cohen's kappa (linear)    = {k:.3f}\")\n",
    "k2 = cohen_kappa_score(y_true, y_pred, weights = 'quadratic')\n",
    "print(f\"Cohen's kappa (quadratic) = {k2:.3f}\")"
   ]
  },
  {
   "cell_type": "markdown",
   "metadata": {},
   "source": [
    "The model overfits as can be seen from the graphs but overall the results aren't that bad since we went from 3 classes to six classes. <br>Cohen's kappa (quadratic) = 0.797 is a good result, Cohen's kappa (linear) = 0.501 not that much. Accuracy in 0.61 isn't that good though.\n",
    "\n",
    "\n",
    "Okay, lets try what we can achieve with training the model with all the data from Data and Labels for 2 epochs since the graphs result looked to be the best then."
   ]
  },
  {
   "cell_type": "code",
   "execution_count": 16,
   "metadata": {},
   "outputs": [],
   "source": [
    "embedding_layer = Embedding(5000,\n",
    "                            100,\n",
    "                            input_length=200,\n",
    "                            trainable=True)\n",
    "\n",
    "sequence_input = Input(shape=(200,), dtype='int32')\n",
    "\n",
    "embedded_sequences = embedding_layer(sequence_input)\n",
    "\n",
    "x = Conv1D(128, 5, activation='relu')(embedded_sequences)\n",
    "x = MaxPooling1D(5)(x)\n",
    "x = Conv1D(128, 5, activation='relu')(x)\n",
    "x = MaxPooling1D(5)(x)\n",
    "x = Conv1D(128, 5, activation='relu')(x)\n",
    "x = GlobalMaxPooling1D()(x)\n",
    "x = Dense(128, activation='relu')(x)\n",
    "\n",
    "prediction = Dense(6, activation='softmax')(x)\n",
    "\n",
    "model = Model(sequence_input, prediction)\n",
    "model.compile(loss='categorical_crossentropy',\n",
    "              optimizer='rmsprop',\n",
    "              metrics=['acc'])"
   ]
  },
  {
   "cell_type": "code",
   "execution_count": 17,
   "metadata": {},
   "outputs": [
    {
     "name": "stdout",
     "output_type": "stream",
     "text": [
      "Train on 161297 samples\n",
      "Epoch 1/2\n",
      "161297/161297 [==============================] - 105s 649us/sample - loss: 1.3118 - acc: 0.4518\n",
      "Epoch 2/2\n",
      "161297/161297 [==============================] - 94s 582us/sample - loss: 1.1300 - acc: 0.5284\n"
     ]
    }
   ],
   "source": [
    "history = model.fit(Data, Labels,\n",
    "          batch_size=128,\n",
    "          epochs=2,\n",
    "          validation_data=None)"
   ]
  },
  {
   "cell_type": "code",
   "execution_count": 18,
   "metadata": {},
   "outputs": [],
   "source": [
    "# Find the predicted values for the validation set\n",
    "y_pred = np.argmax(model.predict(DataTest), axis = 1)\n",
    "y_true = np.argmax(LabelsTest, axis = 1)"
   ]
  },
  {
   "cell_type": "code",
   "execution_count": 19,
   "metadata": {},
   "outputs": [
    {
     "name": "stdout",
     "output_type": "stream",
     "text": [
      "[[ 6063  2468  1209   614   751   821]\n",
      " [  533   884   710   358   170    76]\n",
      " [  301   719  1366  1307   960   269]\n",
      " [    8    59   198   414   390    84]\n",
      " [  154   276   666  1974  7373  3474]\n",
      " [  240   133   220   543  5689 12292]]\n",
      "              precision    recall  f1-score   support\n",
      "\n",
      "           0       0.51      0.83      0.63      7299\n",
      "           1       0.32      0.19      0.24      4539\n",
      "           2       0.28      0.31      0.29      4369\n",
      "           3       0.36      0.08      0.13      5210\n",
      "           4       0.53      0.48      0.50     15333\n",
      "           5       0.64      0.72      0.68     17016\n",
      "\n",
      "    accuracy                           0.53     53766\n",
      "   macro avg       0.44      0.44      0.41     53766\n",
      "weighted avg       0.51      0.53      0.50     53766\n",
      "\n"
     ]
    }
   ],
   "source": [
    "# Calculate confusion matrix\n",
    "cm = confusion_matrix(y_true, y_pred).T\n",
    "print(cm)\n",
    "# Calcualte classification report\n",
    "cr = classification_report(y_true, y_pred)\n",
    "print(cr)"
   ]
  },
  {
   "cell_type": "code",
   "execution_count": 20,
   "metadata": {},
   "outputs": [
    {
     "name": "stdout",
     "output_type": "stream",
     "text": [
      "Cohen's kappa (linear)    = 0.387\n",
      "Cohen's kappa (quadratic) = 0.758\n"
     ]
    }
   ],
   "source": [
    "# Calculate the cohen's kappa, both with linear and quadratic weights\n",
    "k = cohen_kappa_score(y_true, y_pred)\n",
    "print(f\"Cohen's kappa (linear)    = {k:.3f}\")\n",
    "k2 = cohen_kappa_score(y_true, y_pred, weights = 'quadratic')\n",
    "print(f\"Cohen's kappa (quadratic) = {k2:.3f}\")"
   ]
  },
  {
   "cell_type": "markdown",
   "metadata": {},
   "source": [
    "The result isn't good, it seems that having six categories to classify is obviously a lot harder to achieve than with just 3 categories especially with training this few epochs but since the model overfits, there's only regularization that can help with that.<br> Lets's try six classes with glove.6B.100d and glove.6B.200d in Case 3 V2 and V3."
   ]
  },
  {
   "cell_type": "code",
   "execution_count": null,
   "metadata": {},
   "outputs": [],
   "source": []
  }
 ],
 "metadata": {
  "kernelspec": {
   "display_name": "Python 3",
   "language": "python",
   "name": "python3"
  },
  "language_info": {
   "codemirror_mode": {
    "name": "ipython",
    "version": 3
   },
   "file_extension": ".py",
   "mimetype": "text/x-python",
   "name": "python",
   "nbconvert_exporter": "python",
   "pygments_lexer": "ipython3",
   "version": "3.7.6"
  }
 },
 "nbformat": 4,
 "nbformat_minor": 4
}
