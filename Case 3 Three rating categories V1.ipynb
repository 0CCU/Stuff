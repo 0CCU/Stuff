{
 "cells": [
  {
   "cell_type": "code",
   "execution_count": 2,
   "metadata": {},
   "outputs": [],
   "source": [
    "import pandas as pd\n",
    "import numpy as np\n",
    "from tensorflow.keras.models import Sequential\n",
    "from tensorflow.keras.layers import Embedding, Flatten, Dense, SimpleRNN, Activation, GRU, LSTM\n",
    "from tensorflow.keras.models import Sequential\n",
    "from tensorflow.keras import layers\n",
    "from tensorflow.keras.optimizers import RMSprop\n",
    "from tensorflow.keras import preprocessing\n",
    "from tensorflow.keras.preprocessing.text import Tokenizer\n",
    "from tensorflow.keras.utils import to_categorical\n",
    "import matplotlib.pyplot as plt\n",
    "import tensorflow_addons as tfa\n",
    "from tensorflow.keras.utils import to_categorical\n",
    "from tensorflow.keras.preprocessing.text import Tokenizer\n",
    "from sklearn.metrics import confusion_matrix, classification_report, cohen_kappa_score\n",
    "\n",
    "from tensorflow.keras.layers import Dense, Input, GlobalMaxPooling1D\n",
    "from tensorflow.keras.layers import Conv1D, MaxPooling1D, Embedding\n",
    "from tensorflow.keras.models import Model\n",
    "from tensorflow.keras.initializers import Constant\n",
    "from tensorflow.keras.metrics import Accuracy,FalseNegatives, FalsePositives\n",
    "from sklearn.model_selection import train_test_split\n",
    "from tensorflow.keras.preprocessing.sequence import pad_sequences"
   ]
  },
  {
   "cell_type": "markdown",
   "metadata": {},
   "source": [
    "# Case 3.\n",
    "Your name Oskar Rönnberg and team number 15<br>\n",
    "Last edited: 19.03.2020<br>\n",
    "Neural Networks for Health Technology Applications<br>\n",
    "[Helsinki Metropolia University of Applied Sciences](http://www.metropolia.fi/en/)<br>\n",
    "<br>I have multiple versions of case 3 with different setups. Case 3 V1 contains explained steps taken in detail, I'll spare you from them from the rest of the versions, they will of course contain commentary from graphs and changes made to them compared to other versions."
   ]
  },
  {
   "cell_type": "markdown",
   "metadata": {},
   "source": [
    "# Data\n",
    "The data used in this project concerns medical drug reviews from Drugs.com, the task was to use the methods of text processing and to experiment with recurrent and/or convolutional (1D) neural networks to create a classifier for a collection of patient drug reviews.<br>Data comes in two csv files drugsComTrain_raw and drugsComTest_raw.\n"
   ]
  },
  {
   "cell_type": "code",
   "execution_count": 3,
   "metadata": {},
   "outputs": [
    {
     "data": {
      "text/html": [
       "<div>\n",
       "<style scoped>\n",
       "    .dataframe tbody tr th:only-of-type {\n",
       "        vertical-align: middle;\n",
       "    }\n",
       "\n",
       "    .dataframe tbody tr th {\n",
       "        vertical-align: top;\n",
       "    }\n",
       "\n",
       "    .dataframe thead th {\n",
       "        text-align: right;\n",
       "    }\n",
       "</style>\n",
       "<table border=\"1\" class=\"dataframe\">\n",
       "  <thead>\n",
       "    <tr style=\"text-align: right;\">\n",
       "      <th></th>\n",
       "      <th>uniqueID</th>\n",
       "      <th>drugName</th>\n",
       "      <th>condition</th>\n",
       "      <th>review</th>\n",
       "      <th>rating</th>\n",
       "      <th>date</th>\n",
       "      <th>usefulCount</th>\n",
       "    </tr>\n",
       "  </thead>\n",
       "  <tbody>\n",
       "    <tr>\n",
       "      <th>0</th>\n",
       "      <td>206461</td>\n",
       "      <td>Valsartan</td>\n",
       "      <td>Left Ventricular Dysfunction</td>\n",
       "      <td>\"It has no side effect, I take it in combinati...</td>\n",
       "      <td>9</td>\n",
       "      <td>20-May-12</td>\n",
       "      <td>27</td>\n",
       "    </tr>\n",
       "    <tr>\n",
       "      <th>1</th>\n",
       "      <td>95260</td>\n",
       "      <td>Guanfacine</td>\n",
       "      <td>ADHD</td>\n",
       "      <td>\"My son is halfway through his fourth week of ...</td>\n",
       "      <td>8</td>\n",
       "      <td>27-Apr-10</td>\n",
       "      <td>192</td>\n",
       "    </tr>\n",
       "    <tr>\n",
       "      <th>2</th>\n",
       "      <td>92703</td>\n",
       "      <td>Lybrel</td>\n",
       "      <td>Birth Control</td>\n",
       "      <td>\"I used to take another oral contraceptive, wh...</td>\n",
       "      <td>5</td>\n",
       "      <td>14-Dec-09</td>\n",
       "      <td>17</td>\n",
       "    </tr>\n",
       "    <tr>\n",
       "      <th>3</th>\n",
       "      <td>138000</td>\n",
       "      <td>Ortho Evra</td>\n",
       "      <td>Birth Control</td>\n",
       "      <td>\"This is my first time using any form of birth...</td>\n",
       "      <td>8</td>\n",
       "      <td>3-Nov-15</td>\n",
       "      <td>10</td>\n",
       "    </tr>\n",
       "    <tr>\n",
       "      <th>4</th>\n",
       "      <td>35696</td>\n",
       "      <td>Buprenorphine / naloxone</td>\n",
       "      <td>Opiate Dependence</td>\n",
       "      <td>\"Suboxone has completely turned my life around...</td>\n",
       "      <td>9</td>\n",
       "      <td>27-Nov-16</td>\n",
       "      <td>37</td>\n",
       "    </tr>\n",
       "  </tbody>\n",
       "</table>\n",
       "</div>"
      ],
      "text/plain": [
       "   uniqueID                  drugName                     condition  \\\n",
       "0    206461                 Valsartan  Left Ventricular Dysfunction   \n",
       "1     95260                Guanfacine                          ADHD   \n",
       "2     92703                    Lybrel                 Birth Control   \n",
       "3    138000                Ortho Evra                 Birth Control   \n",
       "4     35696  Buprenorphine / naloxone             Opiate Dependence   \n",
       "\n",
       "                                              review  rating       date  \\\n",
       "0  \"It has no side effect, I take it in combinati...       9  20-May-12   \n",
       "1  \"My son is halfway through his fourth week of ...       8  27-Apr-10   \n",
       "2  \"I used to take another oral contraceptive, wh...       5  14-Dec-09   \n",
       "3  \"This is my first time using any form of birth...       8   3-Nov-15   \n",
       "4  \"Suboxone has completely turned my life around...       9  27-Nov-16   \n",
       "\n",
       "   usefulCount  \n",
       "0           27  \n",
       "1          192  \n",
       "2           17  \n",
       "3           10  \n",
       "4           37  "
      ]
     },
     "execution_count": 3,
     "metadata": {},
     "output_type": "execute_result"
    }
   ],
   "source": [
    "dataTrain = pd.read_csv(r'C:/Users/I/Desktop/Neural networks/Neural network data/Case3/drugsComTrain_raw.csv')\n",
    "dataTest = pd.read_csv(r'C:/Users/I/Desktop/Neural networks/Neural network data/Case3/drugsComTest_raw.csv')\n",
    "dataTrain.head()"
   ]
  },
  {
   "cell_type": "markdown",
   "metadata": {},
   "source": [
    "# Preprocessing\n",
    "The assignmet was: Can you predict the rating of the drug based on the review?, we will need columns 'review' and 'rating' from dataframes.<br><br>\n",
    "First we want to tokenize the text data so its split to words. Then fit_on_texts to update internal vocabulary based on a list of text samples. After that make the text to sequences and pad the sequences with maxlen of 200 so, they are all 200 units long."
   ]
  },
  {
   "cell_type": "code",
   "execution_count": 15,
   "metadata": {},
   "outputs": [
    {
     "name": "stdout",
     "output_type": "stream",
     "text": [
      "Found 55245 unique tokens in train data.\n"
     ]
    }
   ],
   "source": [
    "# Tokenize the text\n",
    "samples = dataTrain['review']\n",
    "samplesTest = dataTest['review']\n",
    "\n",
    "tokenizer = Tokenizer(num_words = 5000)\n",
    "tokenizer.fit_on_texts(samples)\n",
    "tokenizer.fit_on_texts(samplesTest)\n",
    "# Convert text to sequences\n",
    "sequences = tokenizer.texts_to_sequences(samples)\n",
    "sequencesTest = tokenizer.texts_to_sequences(samplesTest)\n",
    "\n",
    "word_index = tokenizer.word_index\n",
    "\n",
    "print('Found %s unique tokens in train data.' % len(word_index))\n",
    "\n",
    "#pad sequences\n",
    "Data = pad_sequences(sequences, maxlen=200)\n",
    "DataTest = pad_sequences(sequencesTest, maxlen=200)"
   ]
  },
  {
   "cell_type": "markdown",
   "metadata": {},
   "source": [
    "Make labels to training and testing data. In the case 3 version only three categories are used. 8-10 = good, 4-7 = moderate and 1-3 bad"
   ]
  },
  {
   "cell_type": "code",
   "execution_count": 17,
   "metadata": {},
   "outputs": [],
   "source": [
    "# Create 3 categories for training\n",
    "# label = 2, when rating = 8-10\n",
    "# label = 1, when rating = 4-7\n",
    "# label = 0, when rating = 1-3\n",
    "Labels = dataTrain['rating'].values\n",
    "for i in range(len(Labels)):\n",
    "    x = Labels[i]\n",
    "    if x > 7:\n",
    "        Labels[i] = 2\n",
    "    elif x >= 4:\n",
    "        Labels[i] = 1   \n",
    "    else:\n",
    "        Labels[i] = 0\n",
    "# Create 3 categories for testing\n",
    "# label = 2, when rating = 8-10\n",
    "# label = 1, when rating = 4-7\n",
    "# label = 0, when rating = 1-3\n",
    "LabelsTest = dataTest['rating'].values\n",
    "for i in range(len(LabelsTest)):\n",
    "    x = LabelsTest[i]\n",
    "    if x > 7:\n",
    "        LabelsTest[i] = 2\n",
    "    elif x >= 4:\n",
    "        LabelsTest[i] = 1   \n",
    "    else:\n",
    "        LabelsTest[i] = 0        "
   ]
  },
  {
   "cell_type": "markdown",
   "metadata": {},
   "source": [
    "Labels and LabelsTest conversion from a class vector to a binary class matrix for categoriseing."
   ]
  },
  {
   "cell_type": "code",
   "execution_count": 18,
   "metadata": {},
   "outputs": [],
   "source": [
    "Labels = to_categorical(np.asarray(Labels))\n",
    "LabelsTest = to_categorical(np.asarray(LabelsTest))"
   ]
  },
  {
   "cell_type": "code",
   "execution_count": 19,
   "metadata": {},
   "outputs": [
    {
     "name": "stdout",
     "output_type": "stream",
     "text": [
      "Shape of train data tensor: (161297, 200)\n",
      "Shape of train label tensor: (161297, 3)\n",
      "Shape of test data tensor: (53766, 200)\n",
      "Shape of test label tensor: (53766, 3)\n",
      "[[0. 0. 1.]\n",
      " [0. 0. 1.]\n",
      " [0. 1. 0.]\n",
      " ...\n",
      " [1. 0. 0.]\n",
      " [0. 0. 1.]\n",
      " [0. 0. 1.]]\n"
     ]
    }
   ],
   "source": [
    "print('Shape of train data tensor:', Data.shape)\n",
    "print('Shape of train label tensor:', Labels.shape)\n",
    "print('Shape of test data tensor:', DataTest.shape)\n",
    "print('Shape of test label tensor:', LabelsTest.shape)\n",
    "print(Labels)"
   ]
  },
  {
   "cell_type": "markdown",
   "metadata": {},
   "source": [
    "30% percent of Data with go for validation. Store values to indices from np.arange(Data.shape[0]), shuffle Data and Labels and get the amount of validation samples. Split the Data to train data, train labels, validation data and validation labels. "
   ]
  },
  {
   "cell_type": "code",
   "execution_count": 20,
   "metadata": {},
   "outputs": [],
   "source": [
    "validation_split = 0.3\n",
    "# split the data into a training set and a validation set\n",
    "indices = np.arange(Data.shape[0])\n",
    "np.random.shuffle(indices)\n",
    "Data = Data[indices]\n",
    "Labels = Labels[indices]\n",
    "#Amount of validation samples\n",
    "nb_validation_samples = int(validation_split * Data.shape[0])\n",
    "\n",
    "x_train = Data[:-nb_validation_samples]\n",
    "y_train = Labels[:-nb_validation_samples]\n",
    "x_validation = Data[-nb_validation_samples:]\n",
    "y_validation = Labels[-nb_validation_samples:]"
   ]
  },
  {
   "cell_type": "markdown",
   "metadata": {},
   "source": [
    "# The model\n",
    "For model I decided to use 1D tensors, because I am familiar with 2D tensors already from the previous assignment and I thought that 1D convolution layers could be efficient at recognizing local patterns in a sequence. I also decided to word embeddings in this model I use word embedding with max limit of 5000 words, dimension of 100, input length of 200 since we already padded the data to 200 and make the word embedding trainable.\n",
    "\n",
    "The model has three Conv1D layers to take 1x4 vector from inputs. Two MaxPooling1D layers to halven the amount of data and one GlobalMaxPooling1D to vectorize to from (128). One Dense layer in form of (128) and then final layer \"prediction\" with 3 classes and softmax activation function. Since this is a multichoise class prediction, the loss function needs to be categorical_crossentropy. Optimizer rmsprop will work well in this example since its fast and I have gotten good results with it earlier. Metrics \"accuracy\" will be enough for this assignment. The model summary is below."
   ]
  },
  {
   "cell_type": "code",
   "execution_count": 21,
   "metadata": {},
   "outputs": [
    {
     "name": "stdout",
     "output_type": "stream",
     "text": [
      "Model: \"model\"\n",
      "_________________________________________________________________\n",
      "Layer (type)                 Output Shape              Param #   \n",
      "=================================================================\n",
      "input_1 (InputLayer)         [(None, 200)]             0         \n",
      "_________________________________________________________________\n",
      "embedding (Embedding)        (None, 200, 100)          500000    \n",
      "_________________________________________________________________\n",
      "conv1d (Conv1D)              (None, 196, 128)          64128     \n",
      "_________________________________________________________________\n",
      "max_pooling1d (MaxPooling1D) (None, 39, 128)           0         \n",
      "_________________________________________________________________\n",
      "conv1d_1 (Conv1D)            (None, 35, 128)           82048     \n",
      "_________________________________________________________________\n",
      "max_pooling1d_1 (MaxPooling1 (None, 7, 128)            0         \n",
      "_________________________________________________________________\n",
      "conv1d_2 (Conv1D)            (None, 3, 128)            82048     \n",
      "_________________________________________________________________\n",
      "global_max_pooling1d (Global (None, 128)               0         \n",
      "_________________________________________________________________\n",
      "dense (Dense)                (None, 128)               16512     \n",
      "_________________________________________________________________\n",
      "dense_1 (Dense)              (None, 3)                 387       \n",
      "=================================================================\n",
      "Total params: 745,123\n",
      "Trainable params: 745,123\n",
      "Non-trainable params: 0\n",
      "_________________________________________________________________\n"
     ]
    }
   ],
   "source": [
    "embedding_layer = Embedding(5000,\n",
    "                            100,\n",
    "                            input_length=200,\n",
    "                            trainable=True)\n",
    "\n",
    "sequence_input = Input(shape=(200,), dtype='int32')\n",
    "\n",
    "embedded_sequences = embedding_layer(sequence_input)\n",
    "\n",
    "x = Conv1D(128, 5, activation='relu')(embedded_sequences)\n",
    "x = MaxPooling1D(5)(x)\n",
    "x = Conv1D(128, 5, activation='relu')(x)\n",
    "x = MaxPooling1D(5)(x)\n",
    "x = Conv1D(128, 5, activation='relu')(x)\n",
    "x = GlobalMaxPooling1D()(x)\n",
    "x = Dense(128, activation='relu')(x)\n",
    "\n",
    "prediction = Dense(3, activation='softmax')(x)\n",
    "\n",
    "model = Model(sequence_input, prediction)\n",
    "model.compile(loss='categorical_crossentropy',\n",
    "              optimizer='rmsprop',\n",
    "              metrics=['acc'])\n",
    "\n",
    "model.summary()"
   ]
  },
  {
   "cell_type": "code",
   "execution_count": 22,
   "metadata": {},
   "outputs": [
    {
     "name": "stdout",
     "output_type": "stream",
     "text": [
      "Train on 112908 samples, validate on 48389 samples\n",
      "Epoch 1/10\n",
      "112908/112908 [==============================] - 82s 730us/sample - loss: 0.7093 - acc: 0.7033 - val_loss: 0.6262 - val_acc: 0.7392\n",
      "Epoch 2/10\n",
      "112908/112908 [==============================] - 75s 663us/sample - loss: 0.5727 - acc: 0.7632 - val_loss: 0.7460 - val_acc: 0.7014\n",
      "Epoch 3/10\n",
      "112908/112908 [==============================] - 74s 655us/sample - loss: 0.4803 - acc: 0.8061 - val_loss: 0.5555 - val_acc: 0.7827\n",
      "Epoch 4/10\n",
      "112908/112908 [==============================] - 74s 653us/sample - loss: 0.3926 - acc: 0.8459 - val_loss: 0.5829 - val_acc: 0.7715\n",
      "Epoch 5/10\n",
      "112908/112908 [==============================] - 72s 639us/sample - loss: 0.3051 - acc: 0.8860 - val_loss: 0.6122 - val_acc: 0.7634\n",
      "Epoch 6/10\n",
      "112908/112908 [==============================] - 79s 698us/sample - loss: 0.2308 - acc: 0.9158 - val_loss: 0.6384 - val_acc: 0.8234\n",
      "Epoch 7/10\n",
      "112908/112908 [==============================] - 78s 687us/sample - loss: 0.1805 - acc: 0.9351 - val_loss: 0.7094 - val_acc: 0.8181\n",
      "Epoch 8/10\n",
      "112908/112908 [==============================] - 74s 654us/sample - loss: 0.1402 - acc: 0.9506 - val_loss: 0.8791 - val_acc: 0.8174\n",
      "Epoch 9/10\n",
      "112908/112908 [==============================] - 73s 646us/sample - loss: 0.1130 - acc: 0.9611 - val_loss: 1.0532 - val_acc: 0.8315\n",
      "Epoch 10/10\n",
      "112908/112908 [==============================] - 72s 642us/sample - loss: 0.0927 - acc: 0.9684 - val_loss: 0.8626 - val_acc: 0.8276\n"
     ]
    }
   ],
   "source": [
    "history = model.fit(x_train, y_train,\n",
    "          batch_size=128,\n",
    "          epochs=10,\n",
    "          validation_data=(x_validation, y_validation))"
   ]
  },
  {
   "cell_type": "markdown",
   "metadata": {},
   "source": [
    "Lets plot the results and see what kind of results we got"
   ]
  },
  {
   "cell_type": "code",
   "execution_count": 23,
   "metadata": {},
   "outputs": [
    {
     "data": {
      "image/png": "[encoded data removed]",
      "text/plain": [
       "<Figure size 432x288 with 1 Axes>"
      ]
     },
     "metadata": {
      "needs_background": "light"
     },
     "output_type": "display_data"
    },
    {
     "data": {
      "image/png": "[encoded data removed]",
      "text/plain": [
       "<Figure size 432x288 with 1 Axes>"
      ]
     },
     "metadata": {
      "needs_background": "light"
     },
     "output_type": "display_data"
    },
    {
     "data": {
      "text/plain": [
       "<Figure size 432x288 with 0 Axes>"
      ]
     },
     "metadata": {},
     "output_type": "display_data"
    }
   ],
   "source": [
    "acc = history.history['acc']\n",
    "val_acc = history.history['val_acc']\n",
    "loss = history.history['loss']\n",
    "val_loss = history.history['val_loss']\n",
    "epochs = range(1, len(acc) + 1)\n",
    "plt.plot(epochs, acc, 'bo', label='Training acc')\n",
    "plt.plot(epochs, val_acc, 'b', label='Validation acc')\n",
    "plt.title('Training and validation accuracy')\n",
    "plt.legend()\n",
    "plt.figure()\n",
    "plt.plot(epochs, loss, 'bo', label='Training loss')\n",
    "plt.plot(epochs, val_loss, 'b', label='Validation loss')\n",
    "plt.title('Training and validation loss')\n",
    "plt.legend()\n",
    "plt.figure()\n",
    "plt.show()"
   ]
  },
  {
   "cell_type": "code",
   "execution_count": 24,
   "metadata": {},
   "outputs": [
    {
     "data": {
      "text/plain": [
       "<Figure size 432x288 with 0 Axes>"
      ]
     },
     "execution_count": 24,
     "metadata": {},
     "output_type": "execute_result"
    },
    {
     "data": {
      "image/png": "[encoded data removed]",
      "text/plain": [
       "<Figure size 432x288 with 1 Axes>"
      ]
     },
     "metadata": {
      "needs_background": "light"
     },
     "output_type": "display_data"
    },
    {
     "data": {
      "image/png": "[encoded data removed]",
      "text/plain": [
       "<Figure size 432x288 with 1 Axes>"
      ]
     },
     "metadata": {
      "needs_background": "light"
     },
     "output_type": "display_data"
    },
    {
     "data": {
      "text/plain": [
       "<Figure size 432x288 with 0 Axes>"
      ]
     },
     "metadata": {},
     "output_type": "display_data"
    }
   ],
   "source": [
    "epochs = range(1, len(acc) + 1)\n",
    "def smooth_curve(points, factor=0.8):\n",
    "    smoothed_points = []\n",
    "    for point in points:\n",
    "        if smoothed_points:\n",
    "            previous = smoothed_points[-1]\n",
    "            smoothed_points.append(previous * factor + point * (1 - factor))\n",
    "        else:\n",
    "            smoothed_points.append(point)\n",
    "    return smoothed_points\n",
    "plt.plot(epochs, smooth_curve(acc), 'bo', label='Training acc')\n",
    "plt.plot(epochs, smooth_curve(val_acc), 'b', label='Validation acc')\n",
    "plt.title('Training and validation accuracy')\n",
    "plt.legend()\n",
    "plt.figure()\n",
    "plt.plot(epochs, smooth_curve(loss), 'bo', label='Training loss')\n",
    "plt.plot(epochs, smooth_curve(val_loss), 'b', label='Validation loss')\n",
    "plt.title('Training and validation loss')\n",
    "plt.legend()\n",
    "plt.figure()"
   ]
  },
  {
   "cell_type": "markdown",
   "metadata": {},
   "source": [
    "The model starts to overfit right from the epoch 3. We could use dropout, L1 or L2 regularization within the model layers but lets see where we can go without them. \n",
    "\n",
    "Below are some statistics:"
   ]
  },
  {
   "cell_type": "code",
   "execution_count": 35,
   "metadata": {},
   "outputs": [],
   "source": [
    "# Find the predicted values for the test set\n",
    "y_pred = np.argmax(model.predict(DataTest), axis = 1)\n",
    "y_true = np.argmax(LabelsTest, axis = 1)"
   ]
  },
  {
   "cell_type": "code",
   "execution_count": 36,
   "metadata": {},
   "outputs": [
    {
     "name": "stdout",
     "output_type": "stream",
     "text": [
      "[[ 9423  1489  1023]\n",
      " [ 1088  5379  1792]\n",
      " [ 1327  2711 29534]]\n",
      "              precision    recall  f1-score   support\n",
      "\n",
      "           0       0.79      0.80      0.79     11838\n",
      "           1       0.65      0.56      0.60      9579\n",
      "           2       0.88      0.91      0.90     32349\n",
      "\n",
      "    accuracy                           0.82     53766\n",
      "   macro avg       0.77      0.76      0.76     53766\n",
      "weighted avg       0.82      0.82      0.82     53766\n",
      "\n"
     ]
    }
   ],
   "source": [
    "# Calculate confusion matrix\n",
    "cm = confusion_matrix(y_true, y_pred).T\n",
    "print(cm)\n",
    "# Calcualte classification report\n",
    "cr = classification_report(y_true, y_pred)\n",
    "print(cr)"
   ]
  },
  {
   "cell_type": "code",
   "execution_count": 37,
   "metadata": {},
   "outputs": [
    {
     "name": "stdout",
     "output_type": "stream",
     "text": [
      "Cohen's kappa (linear)    = 0.680\n",
      "Cohen's kappa (quadratic) = 0.775\n"
     ]
    }
   ],
   "source": [
    "# Calculate the cohen's kappa, both with linear and quadratic weights\n",
    "k = cohen_kappa_score(y_true, y_pred)\n",
    "print(f\"Cohen's kappa (linear)    = {k:.3f}\")\n",
    "k2 = cohen_kappa_score(y_true, y_pred, weights = 'quadratic')\n",
    "print(f\"Cohen's kappa (quadratic) = {k2:.3f}\")"
   ]
  },
  {
   "cell_type": "markdown",
   "metadata": {},
   "source": [
    "As can be seen from the graphs ontop, model clearly overfits with 10 epochs of training but it's Cohen's kappa values and classification values are quite nice to look at 0.82 accuracy etc.<br>\n",
    "Cohen's kappa is a statistic that is used to measure inter-rater reliability (the degree of agreement among raters) for qualitative (categorical) items. Cohen's kappa tells us how much homogeneity or consensus exists in the ratings given by various judges. <br>A weighted Kappa is a metric which is used to calculate the amount of similarity between predictions and actuals. A perfect score of 1.0 is granted when both the predictions and actuals are the same. The aim is to get as close to 1 as possible.\n",
    "<br><br>Cohen's kappa (linear) : <br><br> Formula for the linearly weighted Kappa:<br><br> κw  = (Po –Pe)/(1-Pe) <br><br>in which Po is the proportion weighted observed agreement, and Pe is the proportion weighted chance agreement.\n",
    "<br><br>Cohen's kappa (quadratic) : <br><br> Same but with different weights\n",
    "\n",
    "The results are quite good, lets try to lessen the overfitting by decreasing the amount of epochs to 3, everything else is remains the same."
   ]
  },
  {
   "cell_type": "code",
   "execution_count": 38,
   "metadata": {},
   "outputs": [],
   "source": [
    "embedding_layer = Embedding(5000,\n",
    "                            100,\n",
    "                            input_length=200,\n",
    "                            trainable=True)\n",
    "\n",
    "sequence_input = Input(shape=(200,), dtype='int32')\n",
    "\n",
    "embedded_sequences = embedding_layer(sequence_input)\n",
    "\n",
    "x = Conv1D(128, 5, activation='relu')(embedded_sequences)\n",
    "x = MaxPooling1D(5)(x)\n",
    "x = Conv1D(128, 5, activation='relu')(x)\n",
    "x = MaxPooling1D(5)(x)\n",
    "x = Conv1D(128, 5, activation='relu')(x)\n",
    "x = GlobalMaxPooling1D()(x)\n",
    "x = Dense(128, activation='relu')(x)\n",
    "\n",
    "prediction = Dense(3, activation='softmax')(x)\n",
    "\n",
    "model = Model(sequence_input, prediction)\n",
    "model.compile(loss='categorical_crossentropy',\n",
    "              optimizer='rmsprop',\n",
    "              metrics=['acc'])"
   ]
  },
  {
   "cell_type": "code",
   "execution_count": 39,
   "metadata": {},
   "outputs": [
    {
     "name": "stdout",
     "output_type": "stream",
     "text": [
      "Train on 161297 samples\n",
      "Epoch 1/3\n",
      "161297/161297 [==============================] - 105s 652us/sample - loss: 0.6808 - acc: 0.7166\n",
      "Epoch 2/3\n",
      "161297/161297 [==============================] - 103s 640us/sample - loss: 0.5342 - acc: 0.7819\n",
      "Epoch 3/3\n",
      "161297/161297 [==============================] - 100s 622us/sample - loss: 0.4479 - acc: 0.8209\n"
     ]
    }
   ],
   "source": [
    "history = model.fit(Data, Labels,\n",
    "          batch_size=128,\n",
    "          epochs=3,\n",
    "          validation_data=None)"
   ]
  },
  {
   "cell_type": "code",
   "execution_count": 40,
   "metadata": {},
   "outputs": [
    {
     "name": "stdout",
     "output_type": "stream",
     "text": [
      "[[ 8414  1276   437]\n",
      " [ 2043  4705  1685]\n",
      " [ 1381  3598 30227]]\n",
      "              precision    recall  f1-score   support\n",
      "\n",
      "           0       0.83      0.71      0.77     11838\n",
      "           1       0.56      0.49      0.52      9579\n",
      "           2       0.86      0.93      0.89     32349\n",
      "\n",
      "    accuracy                           0.81     53766\n",
      "   macro avg       0.75      0.71      0.73     53766\n",
      "weighted avg       0.80      0.81      0.80     53766\n",
      "\n"
     ]
    }
   ],
   "source": [
    "# Find the predicted values for the test set\n",
    "y_pred = np.argmax(model.predict(DataTest), axis = 1)\n",
    "y_true = np.argmax(LabelsTest, axis = 1)\n",
    "\n",
    "# Calculate confusion matrix\n",
    "cm = confusion_matrix(y_true, y_pred).T\n",
    "print(cm)\n",
    "# Calcualte classification report\n",
    "cr = classification_report(y_true, y_pred)\n",
    "print(cr)"
   ]
  },
  {
   "cell_type": "code",
   "execution_count": 41,
   "metadata": {},
   "outputs": [
    {
     "name": "stdout",
     "output_type": "stream",
     "text": [
      "Cohen's kappa (linear)    = 0.639\n",
      "Cohen's kappa (quadratic) = 0.774\n"
     ]
    }
   ],
   "source": [
    "# Calculate the cohen's kappa, both with linear and quadratic weights\n",
    "k = cohen_kappa_score(y_true, y_pred)\n",
    "print(f\"Cohen's kappa (linear)    = {k:.3f}\")\n",
    "k2 = cohen_kappa_score(y_true, y_pred, weights = 'quadratic')\n",
    "print(f\"Cohen's kappa (quadratic) = {k2:.3f}\")"
   ]
  },
  {
   "cell_type": "markdown",
   "metadata": {},
   "source": [
    "Accuracy went down to 0.81 and Cohen's kappa linear went down from 0.680 to 0.639, a 0.041 difference. Since overfitting is bad and should be avoided when possible the latter result is better. Lets try now what kind of result we can get with a pretrained word embeddings from glove.6B.200d in Case 3 Three rating categories glove.6B.200d V2"
   ]
  },
  {
   "cell_type": "code",
   "execution_count": null,
   "metadata": {},
   "outputs": [],
   "source": []
  }
 ],
 "metadata": {
  "kernelspec": {
   "display_name": "Python 3",
   "language": "python",
   "name": "python3"
  },
  "language_info": {
   "codemirror_mode": {
    "name": "ipython",
    "version": 3
   },
   "file_extension": ".py",
   "mimetype": "text/x-python",
   "name": "python",
   "nbconvert_exporter": "python",
   "pygments_lexer": "ipython3",
   "version": "3.7.6"
  }
 },
 "nbformat": 4,
 "nbformat_minor": 4
}
