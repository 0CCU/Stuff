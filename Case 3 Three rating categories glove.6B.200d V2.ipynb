{
 "cells": [
  {
   "cell_type": "code",
   "execution_count": 1,
   "metadata": {},
   "outputs": [],
   "source": [
    "from __future__ import print_function\n",
    "import os\n",
    "import sys\n",
    "import numpy as np\n",
    "import pandas as pd\n",
    "from tensorflow.keras.models import Sequential\n",
    "from tensorflow.keras.layers import Embedding, Flatten, Dense, SimpleRNN, Activation, GRU, LSTM\n",
    "from tensorflow.keras.models import Sequential\n",
    "from tensorflow.keras import layers\n",
    "from tensorflow.keras.optimizers import RMSprop\n",
    "from tensorflow.keras import preprocessing\n",
    "from tensorflow.keras.preprocessing.text import Tokenizer\n",
    "from tensorflow.keras.utils import to_categorical\n",
    "import matplotlib.pyplot as plt\n",
    "from tensorflow.keras.utils import to_categorical\n",
    "from tensorflow.keras.preprocessing.text import Tokenizer\n",
    "from sklearn.metrics import confusion_matrix, classification_report, cohen_kappa_score\n",
    "\n",
    "from tensorflow.keras.layers import Dense, Input, GlobalMaxPooling1D\n",
    "from tensorflow.keras.layers import Conv1D, MaxPooling1D, Embedding\n",
    "from tensorflow.keras.models import Model\n",
    "from tensorflow.keras.initializers import Constant\n",
    "from tensorflow.keras.metrics import Accuracy\n",
    "from tensorflow.keras.preprocessing.sequence import pad_sequences"
   ]
  },
  {
   "cell_type": "code",
   "execution_count": null,
   "metadata": {},
   "outputs": [],
   "source": [
    "base_dir = r'C:\\Users\\I\\Desktop\\Neural networks\\Neural network data\\Case3'\n",
    "glove_dir = os.path.join(base_dir, 'glove.6B')\n",
    "dataTrain = pd.read_csv(r'C:/Users/I/Desktop/Neural networks/Neural network data/Case3/drugsComTrain_raw.csv')\n",
    "dataTest = pd.read_csv(r'C:/Users/I/Desktop/Neural networks/Neural network data/Case3/drugsComTest_raw.csv')"
   ]
  },
  {
   "cell_type": "code",
   "execution_count": 3,
   "metadata": {},
   "outputs": [
    {
     "name": "stdout",
     "output_type": "stream",
     "text": [
      "Found 55245 unique tokens in train data.\n"
     ]
    }
   ],
   "source": [
    "# Tokenize the text\n",
    "samples = dataTrain['review']\n",
    "samplesTest = dataTest['review']\n",
    "\n",
    "tokenizer = Tokenizer(num_words = 5000)\n",
    "tokenizer.fit_on_texts(samples)\n",
    "tokenizer.fit_on_texts(samplesTest)\n",
    "# Convert text to sequences\n",
    "sequences = tokenizer.texts_to_sequences(samples)\n",
    "sequencesTest = tokenizer.texts_to_sequences(samplesTest)\n",
    "\n",
    "word_index = tokenizer.word_index\n",
    "\n",
    "print('Found %s unique tokens in train data.' % len(word_index))\n",
    "\n",
    "#pad sequences\n",
    "Data = pad_sequences(sequences, maxlen=200)\n",
    "DataTest = pad_sequences(sequencesTest, maxlen=200)"
   ]
  },
  {
   "cell_type": "code",
   "execution_count": 4,
   "metadata": {},
   "outputs": [],
   "source": [
    "# Create three label categories for testing and training\n",
    "# label = 2, when rating = 7-10\n",
    "# label = 1, when rating = 4-7\n",
    "# label = 0, when rating = 1-3\n",
    "Labels = dataTrain['rating'].values\n",
    "for i in range(len(Labels)):\n",
    "    x = Labels[i]\n",
    "    if x > 7:\n",
    "        Labels[i] = 2\n",
    "    elif x >= 4:\n",
    "        Labels[i] = 1\n",
    "    else:\n",
    "        Labels[i] = 0\n",
    "\n",
    "LabelsTest = dataTest['rating'].values\n",
    "for i in range(len(LabelsTest)):\n",
    "    x = LabelsTest[i]\n",
    "    if x > 7:\n",
    "        LabelsTest[i] = 2\n",
    "    elif x >= 4:\n",
    "        LabelsTest[i] = 1   \n",
    "    else:\n",
    "        LabelsTest[i] = 0           "
   ]
  },
  {
   "cell_type": "code",
   "execution_count": 5,
   "metadata": {},
   "outputs": [
    {
     "name": "stdout",
     "output_type": "stream",
     "text": [
      "Shape of train data tensor: (161297, 200)\n",
      "Shape of train label tensor: (161297, 3)\n",
      "Shape of test data tensor: (53766, 200)\n",
      "Shape of test label tensor: (53766, 3)\n"
     ]
    }
   ],
   "source": [
    "Labels = to_categorical(np.asarray(Labels))\n",
    "LabelsTest = to_categorical(np.asarray(LabelsTest))\n",
    "print('Shape of train data tensor:', Data.shape)\n",
    "print('Shape of train label tensor:', Labels.shape)\n",
    "print('Shape of test data tensor:', DataTest.shape)\n",
    "print('Shape of test label tensor:', LabelsTest.shape)"
   ]
  },
  {
   "cell_type": "code",
   "execution_count": 6,
   "metadata": {},
   "outputs": [],
   "source": [
    "validation_split = 0.3\n",
    "# split the data into a training set and a validation set\n",
    "indices = np.arange(Data.shape[0])\n",
    "np.random.shuffle(indices)\n",
    "Data = Data[indices]\n",
    "Labels = Labels[indices]\n",
    "nb_validation_samples = int(validation_split * Data.shape[0])\n",
    "\n",
    "x_train = Data[:-nb_validation_samples]\n",
    "y_train = Labels[:-nb_validation_samples]\n",
    "x_validation = Data[-nb_validation_samples:]\n",
    "y_validation = Labels[-nb_validation_samples:]"
   ]
  },
  {
   "cell_type": "markdown",
   "metadata": {},
   "source": [
    "Since now I'm using pre-trained word embeddings, I'll also need read the file containing values for the pre-trained word embedding. When reading the data in encoding=\"utf8\" must be used or there will be errors, if you try reading the file in without it, it won't succeed since it raises an error, I don't know exactly what makes the error."
   ]
  },
  {
   "cell_type": "code",
   "execution_count": 7,
   "metadata": {},
   "outputs": [
    {
     "name": "stdout",
     "output_type": "stream",
     "text": [
      "Found 400000 word vectors.\n"
     ]
    }
   ],
   "source": [
    "#make array for embeddings\n",
    "embeddings_index = {}\n",
    "#read the file and split the data inside\n",
    "with open(os.path.join(glove_dir, 'glove.6B.200d.txt'), encoding=\"utf8\") as f:\n",
    "    for line in f:\n",
    "        word, coefs = line.split(maxsplit=1)\n",
    "        coefs = np.fromstring(coefs, 'f', sep=' ')\n",
    "        embeddings_index[word] = coefs\n",
    "print('Found %s word vectors.' % len(embeddings_index))"
   ]
  },
  {
   "cell_type": "code",
   "execution_count": 8,
   "metadata": {},
   "outputs": [],
   "source": [
    "num_words = min(5000, len(word_index) + 1)\n",
    "#make array filled with zeroes\n",
    "embedding_matrix = np.zeros((num_words, 200))\n",
    "#for loop through the data and takes words to embedding_vector until 5000 words have been taken.\n",
    "for word, i in word_index.items():\n",
    "    if i >= 5000:\n",
    "        continue\n",
    "    embedding_vector = embeddings_index.get(word)\n",
    "    if embedding_vector is not None:\n",
    "        # words not found in embedding index will be all-zeros.\n",
    "        embedding_matrix[i] = embedding_vector"
   ]
  },
  {
   "cell_type": "markdown",
   "metadata": {},
   "source": [
    "Set up embedding layer with parameters, notice that output dimension is now 200 instead of 100 since we are using 200 dimension glove.6B, also the weights now come from embedding_matrix and training is set to false since we don't want to train our pre-trained word embedding."
   ]
  },
  {
   "cell_type": "code",
   "execution_count": 9,
   "metadata": {},
   "outputs": [],
   "source": [
    "embedding_layer = Embedding(num_words,\n",
    "                            200,\n",
    "                            weights=[embedding_matrix],\n",
    "                            input_length=200,\n",
    "                            trainable=False)"
   ]
  },
  {
   "cell_type": "code",
   "execution_count": 10,
   "metadata": {},
   "outputs": [
    {
     "name": "stdout",
     "output_type": "stream",
     "text": [
      "Model: \"model\"\n",
      "_________________________________________________________________\n",
      "Layer (type)                 Output Shape              Param #   \n",
      "=================================================================\n",
      "input_1 (InputLayer)         [(None, 200)]             0         \n",
      "_________________________________________________________________\n",
      "embedding (Embedding)        (None, 200, 200)          1000000   \n",
      "_________________________________________________________________\n",
      "conv1d (Conv1D)              (None, 196, 128)          128128    \n",
      "_________________________________________________________________\n",
      "max_pooling1d (MaxPooling1D) (None, 39, 128)           0         \n",
      "_________________________________________________________________\n",
      "conv1d_1 (Conv1D)            (None, 35, 128)           82048     \n",
      "_________________________________________________________________\n",
      "max_pooling1d_1 (MaxPooling1 (None, 7, 128)            0         \n",
      "_________________________________________________________________\n",
      "conv1d_2 (Conv1D)            (None, 3, 128)            82048     \n",
      "_________________________________________________________________\n",
      "global_max_pooling1d (Global (None, 128)               0         \n",
      "_________________________________________________________________\n",
      "dense (Dense)                (None, 128)               16512     \n",
      "_________________________________________________________________\n",
      "dense_1 (Dense)              (None, 3)                 387       \n",
      "=================================================================\n",
      "Total params: 1,309,123\n",
      "Trainable params: 309,123\n",
      "Non-trainable params: 1,000,000\n",
      "_________________________________________________________________\n"
     ]
    }
   ],
   "source": [
    "sequence_input = Input(shape=(200,), dtype='int32')\n",
    "embedded_sequences = embedding_layer(sequence_input)\n",
    "x = Conv1D(128, 5, activation='relu')(embedded_sequences)\n",
    "x = MaxPooling1D(5)(x)\n",
    "x = Conv1D(128, 5, activation='relu')(x)\n",
    "x = MaxPooling1D(5)(x)\n",
    "x = Conv1D(128, 5, activation='relu')(x)\n",
    "x = GlobalMaxPooling1D()(x)\n",
    "x = Dense(128, activation='relu')(x)\n",
    "\n",
    "prediction = Dense(3, activation='softmax')(x)\n",
    "\n",
    "model = Model(sequence_input, prediction)\n",
    "model.compile(loss='categorical_crossentropy',\n",
    "              optimizer='rmsprop',\n",
    "              metrics=['acc'])\n",
    "\n",
    "model.summary()"
   ]
  },
  {
   "cell_type": "code",
   "execution_count": 11,
   "metadata": {},
   "outputs": [
    {
     "name": "stdout",
     "output_type": "stream",
     "text": [
      "Train on 112908 samples, validate on 48389 samples\n",
      "Epoch 1/10\n",
      "112908/112908 [==============================] - 84s 748us/sample - loss: 0.7849 - acc: 0.6683 - val_loss: 0.7018 - val_acc: 0.6928\n",
      "Epoch 2/10\n",
      "112908/112908 [==============================] - 80s 711us/sample - loss: 0.6387 - acc: 0.7335 - val_loss: 0.7328 - val_acc: 0.7120\n",
      "Epoch 3/10\n",
      "112908/112908 [==============================] - 82s 723us/sample - loss: 0.5627 - acc: 0.7680 - val_loss: 0.7049 - val_acc: 0.6980\n",
      "Epoch 4/10\n",
      "112908/112908 [==============================] - 80s 706us/sample - loss: 0.4984 - acc: 0.7968 - val_loss: 0.7080 - val_acc: 0.7196\n",
      "Epoch 5/10\n",
      "112908/112908 [==============================] - 75s 664us/sample - loss: 0.4379 - acc: 0.8250 - val_loss: 0.6437 - val_acc: 0.7488\n",
      "Epoch 6/10\n",
      "112908/112908 [==============================] - 84s 741us/sample - loss: 0.3810 - acc: 0.8506 - val_loss: 0.7237 - val_acc: 0.7518\n",
      "Epoch 7/10\n",
      "112908/112908 [==============================] - 85s 750us/sample - loss: 0.3354 - acc: 0.8712 - val_loss: 0.7788 - val_acc: 0.7223\n",
      "Epoch 8/10\n",
      "112908/112908 [==============================] - 85s 752us/sample - loss: 0.2967 - acc: 0.8866 - val_loss: 0.6909 - val_acc: 0.7890\n",
      "Epoch 9/10\n",
      "112908/112908 [==============================] - 83s 731us/sample - loss: 0.2646 - acc: 0.9006 - val_loss: 0.7499 - val_acc: 0.7958\n",
      "Epoch 10/10\n",
      "112908/112908 [==============================] - 83s 739us/sample - loss: 0.2390 - acc: 0.9113 - val_loss: 0.7505 - val_acc: 0.7972\n"
     ]
    }
   ],
   "source": [
    "history = model.fit(x_train, y_train,\n",
    "          batch_size=128,\n",
    "          epochs=10,\n",
    "          validation_data=(x_validation, y_validation))"
   ]
  },
  {
   "cell_type": "code",
   "execution_count": 12,
   "metadata": {},
   "outputs": [
    {
     "data": {
      "image/png": "[encoded data removed]",
      "text/plain": [
       "<Figure size 432x288 with 1 Axes>"
      ]
     },
     "metadata": {
      "needs_background": "light"
     },
     "output_type": "display_data"
    },
    {
     "data": {
      "image/png": "[encoded data removed]",
      "text/plain": [
       "<Figure size 432x288 with 1 Axes>"
      ]
     },
     "metadata": {
      "needs_background": "light"
     },
     "output_type": "display_data"
    },
    {
     "data": {
      "text/plain": [
       "<Figure size 432x288 with 0 Axes>"
      ]
     },
     "metadata": {},
     "output_type": "display_data"
    }
   ],
   "source": [
    "acc = history.history['acc']\n",
    "val_acc = history.history['val_acc']\n",
    "loss = history.history['loss']\n",
    "val_loss = history.history['val_loss']\n",
    "epochs = range(1, len(acc) + 1)\n",
    "plt.plot(epochs, acc, 'bo', label='Training acc')\n",
    "plt.plot(epochs, val_acc, 'b', label='Validation acc')\n",
    "plt.title('Training and validation accuracy')\n",
    "plt.legend()\n",
    "plt.figure()\n",
    "plt.plot(epochs, loss, 'bo', label='Training loss')\n",
    "plt.plot(epochs, val_loss, 'b', label='Validation loss')\n",
    "plt.title('Training and validation loss')\n",
    "plt.legend()\n",
    "plt.figure()\n",
    "plt.show()"
   ]
  },
  {
   "cell_type": "code",
   "execution_count": 13,
   "metadata": {},
   "outputs": [
    {
     "data": {
      "text/plain": [
       "<Figure size 432x288 with 0 Axes>"
      ]
     },
     "execution_count": 13,
     "metadata": {},
     "output_type": "execute_result"
    },
    {
     "data": {
      "image/png": "[encoded data removed]",
      "text/plain": [
       "<Figure size 432x288 with 1 Axes>"
      ]
     },
     "metadata": {
      "needs_background": "light"
     },
     "output_type": "display_data"
    },
    {
     "data": {
      "image/png": "[encoded data removed]",
      "text/plain": [
       "<Figure size 432x288 with 1 Axes>"
      ]
     },
     "metadata": {
      "needs_background": "light"
     },
     "output_type": "display_data"
    },
    {
     "data": {
      "text/plain": [
       "<Figure size 432x288 with 0 Axes>"
      ]
     },
     "metadata": {},
     "output_type": "display_data"
    }
   ],
   "source": [
    "epochs = range(1, len(acc) + 1)\n",
    "def smooth_curve(points, factor=0.8):\n",
    "    smoothed_points = []\n",
    "    for point in points:\n",
    "        if smoothed_points:\n",
    "            previous = smoothed_points[-1]\n",
    "            smoothed_points.append(previous * factor + point * (1 - factor))\n",
    "        else:\n",
    "            smoothed_points.append(point)\n",
    "    return smoothed_points\n",
    "plt.plot(epochs, smooth_curve(acc), 'bo', label='Training acc')\n",
    "plt.plot(epochs, smooth_curve(val_acc), 'b', label='Validation acc')\n",
    "plt.title('Training and validation accuracy')\n",
    "plt.legend()\n",
    "plt.figure()\n",
    "plt.plot(epochs, smooth_curve(loss), 'bo', label='Training loss')\n",
    "plt.plot(epochs, smooth_curve(val_loss), 'b', label='Validation loss')\n",
    "plt.title('Training and validation loss')\n",
    "plt.legend()\n",
    "plt.figure()"
   ]
  },
  {
   "cell_type": "markdown",
   "metadata": {},
   "source": [
    "As can been seen from the graphs above, model starts overfitting after 5 epochs. For example compared to trainable word embeddings the model in Case 3 Three rating categories glove.6B.200d V2 doesnt do better than in Case 3 Three rating categories V1 with trainable word embeddings. From here we can see that pre-trained word can sometimes be actually worse than trainable word embeddings. It starts to seem that the glove.6B isn't optimal word embedding for this data set."
   ]
  },
  {
   "cell_type": "code",
   "execution_count": 14,
   "metadata": {},
   "outputs": [
    {
     "name": "stdout",
     "output_type": "stream",
     "text": [
      "[[ 8660  1469  1171]\n",
      " [ 1629  5004  1929]\n",
      " [ 1549  3106 29249]]\n",
      "\n",
      "\n",
      "              precision    recall  f1-score   support\n",
      "\n",
      "           0       0.77      0.73      0.75     11838\n",
      "           1       0.58      0.52      0.55      9579\n",
      "           2       0.86      0.90      0.88     32349\n",
      "\n",
      "    accuracy                           0.80     53766\n",
      "   macro avg       0.74      0.72      0.73     53766\n",
      "weighted avg       0.79      0.80      0.79     53766\n",
      "\n"
     ]
    }
   ],
   "source": [
    "# Find the predicted values for the test set\n",
    "y_pred = np.argmax(model.predict(DataTest), axis = 1)\n",
    "y_true = np.argmax(LabelsTest, axis = 1)\n",
    "\n",
    "# Calculate confusion matrix\n",
    "cm = confusion_matrix(y_true, y_pred).T\n",
    "print(cm)\n",
    "print(\"\\n\")\n",
    "# Calcualte classification report\n",
    "cr = classification_report(y_true, y_pred)\n",
    "print(cr)"
   ]
  },
  {
   "cell_type": "code",
   "execution_count": 15,
   "metadata": {},
   "outputs": [
    {
     "name": "stdout",
     "output_type": "stream",
     "text": [
      "Cohen's kappa (linear)    = 0.630\n",
      "Cohen's kappa (quadratic) = 0.736\n"
     ]
    }
   ],
   "source": [
    "# Calculate the cohen's kappa, both with linear and quadratic weights\n",
    "k = cohen_kappa_score(y_true, y_pred)\n",
    "print(f\"Cohen's kappa (linear)    = {k:.3f}\")\n",
    "k2 = cohen_kappa_score(y_true, y_pred, weights = 'quadratic')\n",
    "print(f\"Cohen's kappa (quadratic) = {k2:.3f}\")"
   ]
  },
  {
   "cell_type": "markdown",
   "metadata": {},
   "source": [
    "Accuracy and Cohen's kappa values are both worse than in previous version. Lets see what happens with we train the model from all over again with all of the training data."
   ]
  },
  {
   "cell_type": "code",
   "execution_count": 17,
   "metadata": {},
   "outputs": [],
   "source": [
    "sequence_input = Input(shape=(200,), dtype='int32')\n",
    "embedded_sequences = embedding_layer(sequence_input)\n",
    "x = Conv1D(128, 5, activation='relu')(embedded_sequences)\n",
    "x = MaxPooling1D(5)(x)\n",
    "x = Conv1D(128, 5, activation='relu')(x)\n",
    "x = MaxPooling1D(5)(x)\n",
    "x = Conv1D(128, 5, activation='relu')(x)\n",
    "x = GlobalMaxPooling1D()(x)\n",
    "x = Dense(128, activation='relu')(x)\n",
    "\n",
    "prediction = Dense(3, activation='softmax')(x)\n",
    "\n",
    "model = Model(sequence_input, prediction)\n",
    "model.compile(loss='categorical_crossentropy',\n",
    "              optimizer='rmsprop',\n",
    "              metrics=['acc'])"
   ]
  },
  {
   "cell_type": "code",
   "execution_count": 19,
   "metadata": {},
   "outputs": [
    {
     "name": "stdout",
     "output_type": "stream",
     "text": [
      "Train on 161297 samples\n",
      "Epoch 1/5\n",
      "161297/161297 [==============================] - 111s 689us/sample - loss: 0.7345 - acc: 0.6889\n",
      "Epoch 2/5\n",
      "161297/161297 [==============================] - 107s 664us/sample - loss: 0.6067 - acc: 0.7469\n",
      "Epoch 3/5\n",
      "161297/161297 [==============================] - 110s 683us/sample - loss: 0.5407 - acc: 0.7768\n",
      "Epoch 4/5\n",
      "161297/161297 [==============================] - 109s 677us/sample - loss: 0.4868 - acc: 0.8022\n",
      "Epoch 5/5\n",
      "161297/161297 [==============================] - 111s 688us/sample - loss: 0.4390 - acc: 0.8228\n"
     ]
    }
   ],
   "source": [
    "history = model.fit(Data, Labels,\n",
    "          batch_size=128,\n",
    "          epochs=5,\n",
    "          validation_data=None)"
   ]
  },
  {
   "cell_type": "code",
   "execution_count": 20,
   "metadata": {},
   "outputs": [
    {
     "name": "stdout",
     "output_type": "stream",
     "text": [
      "[[ 7600  1196   596]\n",
      " [ 2815  4931  2475]\n",
      " [ 1423  3452 29278]]\n",
      "\n",
      "\n",
      "              precision    recall  f1-score   support\n",
      "\n",
      "           0       0.81      0.64      0.72     11838\n",
      "           1       0.48      0.51      0.50      9579\n",
      "           2       0.86      0.91      0.88     32349\n",
      "\n",
      "    accuracy                           0.78     53766\n",
      "   macro avg       0.72      0.69      0.70     53766\n",
      "weighted avg       0.78      0.78      0.78     53766\n",
      "\n"
     ]
    }
   ],
   "source": [
    "# Find the predicted values for the validation set\n",
    "y_pred = np.argmax(model.predict(DataTest), axis = 1)\n",
    "y_true = np.argmax(LabelsTest, axis = 1)\n",
    "\n",
    "# Calculate confusion matrix\n",
    "cm = confusion_matrix(y_true, y_pred).T\n",
    "print(cm)\n",
    "print(\"\\n\")\n",
    "# Calcualte classification report\n",
    "cr = classification_report(y_true, y_pred)\n",
    "print(cr)"
   ]
  },
  {
   "cell_type": "code",
   "execution_count": 21,
   "metadata": {},
   "outputs": [
    {
     "name": "stdout",
     "output_type": "stream",
     "text": [
      "Cohen's kappa (linear)    = 0.592\n",
      "Cohen's kappa (quadratic) = 0.738\n"
     ]
    }
   ],
   "source": [
    "# Calculate the cohen's kappa, both with linear and quadratic weights\n",
    "k = cohen_kappa_score(y_true, y_pred)\n",
    "print(f\"Cohen's kappa (linear)    = {k:.3f}\")\n",
    "k2 = cohen_kappa_score(y_true, y_pred, weights = 'quadratic')\n",
    "print(f\"Cohen's kappa (quadratic) = {k2:.3f}\")"
   ]
  },
  {
   "cell_type": "markdown",
   "metadata": {},
   "source": [
    "I would have thought that since we are using a pretrained word embedding, the results would have been better with 5 epochs of train but it seems not. I think this is because the model still trains its weights and even if you're starting to overfit after the fifth epoch, the weights still improve somewhat. <br><br>Next lets try how we can classify with six classes in Case 3 Six rating categories V1."
   ]
  }
 ],
 "metadata": {
  "kernelspec": {
   "display_name": "Python 3",
   "language": "python",
   "name": "python3"
  },
  "language_info": {
   "codemirror_mode": {
    "name": "ipython",
    "version": 3
   },
   "file_extension": ".py",
   "mimetype": "text/x-python",
   "name": "python",
   "nbconvert_exporter": "python",
   "pygments_lexer": "ipython3",
   "version": "3.7.6"
  }
 },
 "nbformat": 4,
 "nbformat_minor": 4
}
